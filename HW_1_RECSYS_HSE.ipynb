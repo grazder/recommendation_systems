{
  "nbformat": 4,
  "nbformat_minor": 0,
  "metadata": {
    "accelerator": "GPU",
    "colab": {
      "name": "HW_1_RECSYS_HSE.ipynb",
      "provenance": [],
      "collapsed_sections": [],
      "include_colab_link": true
    },
    "kernelspec": {
      "display_name": "Python 3",
      "language": "python",
      "name": "python3"
    },
    "language_info": {
      "codemirror_mode": {
        "name": "ipython",
        "version": 3
      },
      "file_extension": ".py",
      "mimetype": "text/x-python",
      "name": "python",
      "nbconvert_exporter": "python",
      "pygments_lexer": "ipython3",
      "version": "3.7.4"
    },
    "widgets": {
      "application/vnd.jupyter.widget-state+json": {
        "c8a44b7ee3374d60ad4921d2360807c6": {
          "model_module": "@jupyter-widgets/controls",
          "model_name": "HBoxModel",
          "model_module_version": "1.5.0",
          "state": {
            "_view_name": "HBoxView",
            "_dom_classes": [],
            "_model_name": "HBoxModel",
            "_view_module": "@jupyter-widgets/controls",
            "_model_module_version": "1.5.0",
            "_view_count": null,
            "_view_module_version": "1.5.0",
            "box_style": "",
            "layout": "IPY_MODEL_cb7359a502ea4cbcac528a86cc89d3f1",
            "_model_module": "@jupyter-widgets/controls",
            "children": [
              "IPY_MODEL_21160ca3a6ef440d900b85c4d142cbb0",
              "IPY_MODEL_bf037ec8e5994fcbb86ecac473f3d49d",
              "IPY_MODEL_5db49c01fc364d6e90df754a57eaff96"
            ]
          }
        },
        "cb7359a502ea4cbcac528a86cc89d3f1": {
          "model_module": "@jupyter-widgets/base",
          "model_name": "LayoutModel",
          "model_module_version": "1.2.0",
          "state": {
            "_view_name": "LayoutView",
            "grid_template_rows": null,
            "right": null,
            "justify_content": null,
            "_view_module": "@jupyter-widgets/base",
            "overflow": null,
            "_model_module_version": "1.2.0",
            "_view_count": null,
            "flex_flow": null,
            "width": null,
            "min_width": null,
            "border": null,
            "align_items": null,
            "bottom": null,
            "_model_module": "@jupyter-widgets/base",
            "top": null,
            "grid_column": null,
            "overflow_y": null,
            "overflow_x": null,
            "grid_auto_flow": null,
            "grid_area": null,
            "grid_template_columns": null,
            "flex": null,
            "_model_name": "LayoutModel",
            "justify_items": null,
            "grid_row": null,
            "max_height": null,
            "align_content": null,
            "visibility": null,
            "align_self": null,
            "height": null,
            "min_height": null,
            "padding": null,
            "grid_auto_rows": null,
            "grid_gap": null,
            "max_width": null,
            "order": null,
            "_view_module_version": "1.2.0",
            "grid_template_areas": null,
            "object_position": null,
            "object_fit": null,
            "grid_auto_columns": null,
            "margin": null,
            "display": null,
            "left": null
          }
        },
        "21160ca3a6ef440d900b85c4d142cbb0": {
          "model_module": "@jupyter-widgets/controls",
          "model_name": "HTMLModel",
          "model_module_version": "1.5.0",
          "state": {
            "_view_name": "HTMLView",
            "style": "IPY_MODEL_2739a79fe4764b21beeb2e7bc7fbae3d",
            "_dom_classes": [],
            "description": "",
            "_model_name": "HTMLModel",
            "placeholder": "​",
            "_view_module": "@jupyter-widgets/controls",
            "_model_module_version": "1.5.0",
            "value": "100%",
            "_view_count": null,
            "_view_module_version": "1.5.0",
            "description_tooltip": null,
            "_model_module": "@jupyter-widgets/controls",
            "layout": "IPY_MODEL_20afc096d51c43ff8746ee36e559ecde"
          }
        },
        "bf037ec8e5994fcbb86ecac473f3d49d": {
          "model_module": "@jupyter-widgets/controls",
          "model_name": "FloatProgressModel",
          "model_module_version": "1.5.0",
          "state": {
            "_view_name": "ProgressView",
            "style": "IPY_MODEL_9f6e1d362b3c467591340256185bfffb",
            "_dom_classes": [],
            "description": "",
            "_model_name": "FloatProgressModel",
            "bar_style": "success",
            "max": 100,
            "_view_module": "@jupyter-widgets/controls",
            "_model_module_version": "1.5.0",
            "value": 100,
            "_view_count": null,
            "_view_module_version": "1.5.0",
            "orientation": "horizontal",
            "min": 0,
            "description_tooltip": null,
            "_model_module": "@jupyter-widgets/controls",
            "layout": "IPY_MODEL_3f6249dc44754172bb88754b066f4a38"
          }
        },
        "5db49c01fc364d6e90df754a57eaff96": {
          "model_module": "@jupyter-widgets/controls",
          "model_name": "HTMLModel",
          "model_module_version": "1.5.0",
          "state": {
            "_view_name": "HTMLView",
            "style": "IPY_MODEL_e247ab8dd2f44a8ea1441c4ce7a6e5e3",
            "_dom_classes": [],
            "description": "",
            "_model_name": "HTMLModel",
            "placeholder": "​",
            "_view_module": "@jupyter-widgets/controls",
            "_model_module_version": "1.5.0",
            "value": " 100/100 [00:02&lt;00:00, 42.06it/s, loss=0.0135]",
            "_view_count": null,
            "_view_module_version": "1.5.0",
            "description_tooltip": null,
            "_model_module": "@jupyter-widgets/controls",
            "layout": "IPY_MODEL_94c4dd4b4ae3482f97fbd40bba6d139e"
          }
        },
        "2739a79fe4764b21beeb2e7bc7fbae3d": {
          "model_module": "@jupyter-widgets/controls",
          "model_name": "DescriptionStyleModel",
          "model_module_version": "1.5.0",
          "state": {
            "_view_name": "StyleView",
            "_model_name": "DescriptionStyleModel",
            "description_width": "",
            "_view_module": "@jupyter-widgets/base",
            "_model_module_version": "1.5.0",
            "_view_count": null,
            "_view_module_version": "1.2.0",
            "_model_module": "@jupyter-widgets/controls"
          }
        },
        "20afc096d51c43ff8746ee36e559ecde": {
          "model_module": "@jupyter-widgets/base",
          "model_name": "LayoutModel",
          "model_module_version": "1.2.0",
          "state": {
            "_view_name": "LayoutView",
            "grid_template_rows": null,
            "right": null,
            "justify_content": null,
            "_view_module": "@jupyter-widgets/base",
            "overflow": null,
            "_model_module_version": "1.2.0",
            "_view_count": null,
            "flex_flow": null,
            "width": null,
            "min_width": null,
            "border": null,
            "align_items": null,
            "bottom": null,
            "_model_module": "@jupyter-widgets/base",
            "top": null,
            "grid_column": null,
            "overflow_y": null,
            "overflow_x": null,
            "grid_auto_flow": null,
            "grid_area": null,
            "grid_template_columns": null,
            "flex": null,
            "_model_name": "LayoutModel",
            "justify_items": null,
            "grid_row": null,
            "max_height": null,
            "align_content": null,
            "visibility": null,
            "align_self": null,
            "height": null,
            "min_height": null,
            "padding": null,
            "grid_auto_rows": null,
            "grid_gap": null,
            "max_width": null,
            "order": null,
            "_view_module_version": "1.2.0",
            "grid_template_areas": null,
            "object_position": null,
            "object_fit": null,
            "grid_auto_columns": null,
            "margin": null,
            "display": null,
            "left": null
          }
        },
        "9f6e1d362b3c467591340256185bfffb": {
          "model_module": "@jupyter-widgets/controls",
          "model_name": "ProgressStyleModel",
          "model_module_version": "1.5.0",
          "state": {
            "_view_name": "StyleView",
            "_model_name": "ProgressStyleModel",
            "description_width": "",
            "_view_module": "@jupyter-widgets/base",
            "_model_module_version": "1.5.0",
            "_view_count": null,
            "_view_module_version": "1.2.0",
            "bar_color": null,
            "_model_module": "@jupyter-widgets/controls"
          }
        },
        "3f6249dc44754172bb88754b066f4a38": {
          "model_module": "@jupyter-widgets/base",
          "model_name": "LayoutModel",
          "model_module_version": "1.2.0",
          "state": {
            "_view_name": "LayoutView",
            "grid_template_rows": null,
            "right": null,
            "justify_content": null,
            "_view_module": "@jupyter-widgets/base",
            "overflow": null,
            "_model_module_version": "1.2.0",
            "_view_count": null,
            "flex_flow": null,
            "width": null,
            "min_width": null,
            "border": null,
            "align_items": null,
            "bottom": null,
            "_model_module": "@jupyter-widgets/base",
            "top": null,
            "grid_column": null,
            "overflow_y": null,
            "overflow_x": null,
            "grid_auto_flow": null,
            "grid_area": null,
            "grid_template_columns": null,
            "flex": null,
            "_model_name": "LayoutModel",
            "justify_items": null,
            "grid_row": null,
            "max_height": null,
            "align_content": null,
            "visibility": null,
            "align_self": null,
            "height": null,
            "min_height": null,
            "padding": null,
            "grid_auto_rows": null,
            "grid_gap": null,
            "max_width": null,
            "order": null,
            "_view_module_version": "1.2.0",
            "grid_template_areas": null,
            "object_position": null,
            "object_fit": null,
            "grid_auto_columns": null,
            "margin": null,
            "display": null,
            "left": null
          }
        },
        "e247ab8dd2f44a8ea1441c4ce7a6e5e3": {
          "model_module": "@jupyter-widgets/controls",
          "model_name": "DescriptionStyleModel",
          "model_module_version": "1.5.0",
          "state": {
            "_view_name": "StyleView",
            "_model_name": "DescriptionStyleModel",
            "description_width": "",
            "_view_module": "@jupyter-widgets/base",
            "_model_module_version": "1.5.0",
            "_view_count": null,
            "_view_module_version": "1.2.0",
            "_model_module": "@jupyter-widgets/controls"
          }
        },
        "94c4dd4b4ae3482f97fbd40bba6d139e": {
          "model_module": "@jupyter-widgets/base",
          "model_name": "LayoutModel",
          "model_module_version": "1.2.0",
          "state": {
            "_view_name": "LayoutView",
            "grid_template_rows": null,
            "right": null,
            "justify_content": null,
            "_view_module": "@jupyter-widgets/base",
            "overflow": null,
            "_model_module_version": "1.2.0",
            "_view_count": null,
            "flex_flow": null,
            "width": null,
            "min_width": null,
            "border": null,
            "align_items": null,
            "bottom": null,
            "_model_module": "@jupyter-widgets/base",
            "top": null,
            "grid_column": null,
            "overflow_y": null,
            "overflow_x": null,
            "grid_auto_flow": null,
            "grid_area": null,
            "grid_template_columns": null,
            "flex": null,
            "_model_name": "LayoutModel",
            "justify_items": null,
            "grid_row": null,
            "max_height": null,
            "align_content": null,
            "visibility": null,
            "align_self": null,
            "height": null,
            "min_height": null,
            "padding": null,
            "grid_auto_rows": null,
            "grid_gap": null,
            "max_width": null,
            "order": null,
            "_view_module_version": "1.2.0",
            "grid_template_areas": null,
            "object_position": null,
            "object_fit": null,
            "grid_auto_columns": null,
            "margin": null,
            "display": null,
            "left": null
          }
        },
        "d44dd83996ba4474bf279c5e821aab48": {
          "model_module": "@jupyter-widgets/controls",
          "model_name": "HBoxModel",
          "model_module_version": "1.5.0",
          "state": {
            "_view_name": "HBoxView",
            "_dom_classes": [],
            "_model_name": "HBoxModel",
            "_view_module": "@jupyter-widgets/controls",
            "_model_module_version": "1.5.0",
            "_view_count": null,
            "_view_module_version": "1.5.0",
            "box_style": "",
            "layout": "IPY_MODEL_c009fbcc46d74a2c90fec1cbad7b67b6",
            "_model_module": "@jupyter-widgets/controls",
            "children": [
              "IPY_MODEL_75b6a248cd2445aa89558d7800fc3752",
              "IPY_MODEL_8a71224c983e4afeb2867a1e33a7c78f",
              "IPY_MODEL_523284fe7fa0443cb6331a17597676f0"
            ]
          }
        },
        "c009fbcc46d74a2c90fec1cbad7b67b6": {
          "model_module": "@jupyter-widgets/base",
          "model_name": "LayoutModel",
          "model_module_version": "1.2.0",
          "state": {
            "_view_name": "LayoutView",
            "grid_template_rows": null,
            "right": null,
            "justify_content": null,
            "_view_module": "@jupyter-widgets/base",
            "overflow": null,
            "_model_module_version": "1.2.0",
            "_view_count": null,
            "flex_flow": null,
            "width": null,
            "min_width": null,
            "border": null,
            "align_items": null,
            "bottom": null,
            "_model_module": "@jupyter-widgets/base",
            "top": null,
            "grid_column": null,
            "overflow_y": null,
            "overflow_x": null,
            "grid_auto_flow": null,
            "grid_area": null,
            "grid_template_columns": null,
            "flex": null,
            "_model_name": "LayoutModel",
            "justify_items": null,
            "grid_row": null,
            "max_height": null,
            "align_content": null,
            "visibility": null,
            "align_self": null,
            "height": null,
            "min_height": null,
            "padding": null,
            "grid_auto_rows": null,
            "grid_gap": null,
            "max_width": null,
            "order": null,
            "_view_module_version": "1.2.0",
            "grid_template_areas": null,
            "object_position": null,
            "object_fit": null,
            "grid_auto_columns": null,
            "margin": null,
            "display": null,
            "left": null
          }
        },
        "75b6a248cd2445aa89558d7800fc3752": {
          "model_module": "@jupyter-widgets/controls",
          "model_name": "HTMLModel",
          "model_module_version": "1.5.0",
          "state": {
            "_view_name": "HTMLView",
            "style": "IPY_MODEL_a28bbd94b69e490e8ecd29ab9e5b35e4",
            "_dom_classes": [],
            "description": "",
            "_model_name": "HTMLModel",
            "placeholder": "​",
            "_view_module": "@jupyter-widgets/controls",
            "_model_module_version": "1.5.0",
            "value": "100%",
            "_view_count": null,
            "_view_module_version": "1.5.0",
            "description_tooltip": null,
            "_model_module": "@jupyter-widgets/controls",
            "layout": "IPY_MODEL_4fd09006215147ac94a1dc33ea82b403"
          }
        },
        "8a71224c983e4afeb2867a1e33a7c78f": {
          "model_module": "@jupyter-widgets/controls",
          "model_name": "FloatProgressModel",
          "model_module_version": "1.5.0",
          "state": {
            "_view_name": "ProgressView",
            "style": "IPY_MODEL_c8fe648e08844540a0ccbdb8a0aa8085",
            "_dom_classes": [],
            "description": "",
            "_model_name": "FloatProgressModel",
            "bar_style": "success",
            "max": 50,
            "_view_module": "@jupyter-widgets/controls",
            "_model_module_version": "1.5.0",
            "value": 50,
            "_view_count": null,
            "_view_module_version": "1.5.0",
            "orientation": "horizontal",
            "min": 0,
            "description_tooltip": null,
            "_model_module": "@jupyter-widgets/controls",
            "layout": "IPY_MODEL_0893b0d42e8043c790016638b859050a"
          }
        },
        "523284fe7fa0443cb6331a17597676f0": {
          "model_module": "@jupyter-widgets/controls",
          "model_name": "HTMLModel",
          "model_module_version": "1.5.0",
          "state": {
            "_view_name": "HTMLView",
            "style": "IPY_MODEL_6fd5388fc92041a08e22f00b645ce9de",
            "_dom_classes": [],
            "description": "",
            "_model_name": "HTMLModel",
            "placeholder": "​",
            "_view_module": "@jupyter-widgets/controls",
            "_model_module_version": "1.5.0",
            "value": " 50/50 [14:03&lt;00:00, 16.93s/it]",
            "_view_count": null,
            "_view_module_version": "1.5.0",
            "description_tooltip": null,
            "_model_module": "@jupyter-widgets/controls",
            "layout": "IPY_MODEL_7fc3f8af0ec540288a7623e4131eb75c"
          }
        },
        "a28bbd94b69e490e8ecd29ab9e5b35e4": {
          "model_module": "@jupyter-widgets/controls",
          "model_name": "DescriptionStyleModel",
          "model_module_version": "1.5.0",
          "state": {
            "_view_name": "StyleView",
            "_model_name": "DescriptionStyleModel",
            "description_width": "",
            "_view_module": "@jupyter-widgets/base",
            "_model_module_version": "1.5.0",
            "_view_count": null,
            "_view_module_version": "1.2.0",
            "_model_module": "@jupyter-widgets/controls"
          }
        },
        "4fd09006215147ac94a1dc33ea82b403": {
          "model_module": "@jupyter-widgets/base",
          "model_name": "LayoutModel",
          "model_module_version": "1.2.0",
          "state": {
            "_view_name": "LayoutView",
            "grid_template_rows": null,
            "right": null,
            "justify_content": null,
            "_view_module": "@jupyter-widgets/base",
            "overflow": null,
            "_model_module_version": "1.2.0",
            "_view_count": null,
            "flex_flow": null,
            "width": null,
            "min_width": null,
            "border": null,
            "align_items": null,
            "bottom": null,
            "_model_module": "@jupyter-widgets/base",
            "top": null,
            "grid_column": null,
            "overflow_y": null,
            "overflow_x": null,
            "grid_auto_flow": null,
            "grid_area": null,
            "grid_template_columns": null,
            "flex": null,
            "_model_name": "LayoutModel",
            "justify_items": null,
            "grid_row": null,
            "max_height": null,
            "align_content": null,
            "visibility": null,
            "align_self": null,
            "height": null,
            "min_height": null,
            "padding": null,
            "grid_auto_rows": null,
            "grid_gap": null,
            "max_width": null,
            "order": null,
            "_view_module_version": "1.2.0",
            "grid_template_areas": null,
            "object_position": null,
            "object_fit": null,
            "grid_auto_columns": null,
            "margin": null,
            "display": null,
            "left": null
          }
        },
        "c8fe648e08844540a0ccbdb8a0aa8085": {
          "model_module": "@jupyter-widgets/controls",
          "model_name": "ProgressStyleModel",
          "model_module_version": "1.5.0",
          "state": {
            "_view_name": "StyleView",
            "_model_name": "ProgressStyleModel",
            "description_width": "",
            "_view_module": "@jupyter-widgets/base",
            "_model_module_version": "1.5.0",
            "_view_count": null,
            "_view_module_version": "1.2.0",
            "bar_color": null,
            "_model_module": "@jupyter-widgets/controls"
          }
        },
        "0893b0d42e8043c790016638b859050a": {
          "model_module": "@jupyter-widgets/base",
          "model_name": "LayoutModel",
          "model_module_version": "1.2.0",
          "state": {
            "_view_name": "LayoutView",
            "grid_template_rows": null,
            "right": null,
            "justify_content": null,
            "_view_module": "@jupyter-widgets/base",
            "overflow": null,
            "_model_module_version": "1.2.0",
            "_view_count": null,
            "flex_flow": null,
            "width": null,
            "min_width": null,
            "border": null,
            "align_items": null,
            "bottom": null,
            "_model_module": "@jupyter-widgets/base",
            "top": null,
            "grid_column": null,
            "overflow_y": null,
            "overflow_x": null,
            "grid_auto_flow": null,
            "grid_area": null,
            "grid_template_columns": null,
            "flex": null,
            "_model_name": "LayoutModel",
            "justify_items": null,
            "grid_row": null,
            "max_height": null,
            "align_content": null,
            "visibility": null,
            "align_self": null,
            "height": null,
            "min_height": null,
            "padding": null,
            "grid_auto_rows": null,
            "grid_gap": null,
            "max_width": null,
            "order": null,
            "_view_module_version": "1.2.0",
            "grid_template_areas": null,
            "object_position": null,
            "object_fit": null,
            "grid_auto_columns": null,
            "margin": null,
            "display": null,
            "left": null
          }
        },
        "6fd5388fc92041a08e22f00b645ce9de": {
          "model_module": "@jupyter-widgets/controls",
          "model_name": "DescriptionStyleModel",
          "model_module_version": "1.5.0",
          "state": {
            "_view_name": "StyleView",
            "_model_name": "DescriptionStyleModel",
            "description_width": "",
            "_view_module": "@jupyter-widgets/base",
            "_model_module_version": "1.5.0",
            "_view_count": null,
            "_view_module_version": "1.2.0",
            "_model_module": "@jupyter-widgets/controls"
          }
        },
        "7fc3f8af0ec540288a7623e4131eb75c": {
          "model_module": "@jupyter-widgets/base",
          "model_name": "LayoutModel",
          "model_module_version": "1.2.0",
          "state": {
            "_view_name": "LayoutView",
            "grid_template_rows": null,
            "right": null,
            "justify_content": null,
            "_view_module": "@jupyter-widgets/base",
            "overflow": null,
            "_model_module_version": "1.2.0",
            "_view_count": null,
            "flex_flow": null,
            "width": null,
            "min_width": null,
            "border": null,
            "align_items": null,
            "bottom": null,
            "_model_module": "@jupyter-widgets/base",
            "top": null,
            "grid_column": null,
            "overflow_y": null,
            "overflow_x": null,
            "grid_auto_flow": null,
            "grid_area": null,
            "grid_template_columns": null,
            "flex": null,
            "_model_name": "LayoutModel",
            "justify_items": null,
            "grid_row": null,
            "max_height": null,
            "align_content": null,
            "visibility": null,
            "align_self": null,
            "height": null,
            "min_height": null,
            "padding": null,
            "grid_auto_rows": null,
            "grid_gap": null,
            "max_width": null,
            "order": null,
            "_view_module_version": "1.2.0",
            "grid_template_areas": null,
            "object_position": null,
            "object_fit": null,
            "grid_auto_columns": null,
            "margin": null,
            "display": null,
            "left": null
          }
        },
        "1a1e3bcc00cb406a84e5d2cdfafed88f": {
          "model_module": "@jupyter-widgets/controls",
          "model_name": "HBoxModel",
          "model_module_version": "1.5.0",
          "state": {
            "_view_name": "HBoxView",
            "_dom_classes": [],
            "_model_name": "HBoxModel",
            "_view_module": "@jupyter-widgets/controls",
            "_model_module_version": "1.5.0",
            "_view_count": null,
            "_view_module_version": "1.5.0",
            "box_style": "",
            "layout": "IPY_MODEL_26a855930e9a43a38ee43ede8198ca48",
            "_model_module": "@jupyter-widgets/controls",
            "children": [
              "IPY_MODEL_d529f75cf5e54d9aba502da8aa4ba0d4",
              "IPY_MODEL_f77ba35aaff64b45b259e461b2a98f61",
              "IPY_MODEL_c89c4c1f44614a8d8f5ea3a2a9bf9e47"
            ]
          }
        },
        "26a855930e9a43a38ee43ede8198ca48": {
          "model_module": "@jupyter-widgets/base",
          "model_name": "LayoutModel",
          "model_module_version": "1.2.0",
          "state": {
            "_view_name": "LayoutView",
            "grid_template_rows": null,
            "right": null,
            "justify_content": null,
            "_view_module": "@jupyter-widgets/base",
            "overflow": null,
            "_model_module_version": "1.2.0",
            "_view_count": null,
            "flex_flow": null,
            "width": null,
            "min_width": null,
            "border": null,
            "align_items": null,
            "bottom": null,
            "_model_module": "@jupyter-widgets/base",
            "top": null,
            "grid_column": null,
            "overflow_y": null,
            "overflow_x": null,
            "grid_auto_flow": null,
            "grid_area": null,
            "grid_template_columns": null,
            "flex": null,
            "_model_name": "LayoutModel",
            "justify_items": null,
            "grid_row": null,
            "max_height": null,
            "align_content": null,
            "visibility": null,
            "align_self": null,
            "height": null,
            "min_height": null,
            "padding": null,
            "grid_auto_rows": null,
            "grid_gap": null,
            "max_width": null,
            "order": null,
            "_view_module_version": "1.2.0",
            "grid_template_areas": null,
            "object_position": null,
            "object_fit": null,
            "grid_auto_columns": null,
            "margin": null,
            "display": null,
            "left": null
          }
        },
        "d529f75cf5e54d9aba502da8aa4ba0d4": {
          "model_module": "@jupyter-widgets/controls",
          "model_name": "HTMLModel",
          "model_module_version": "1.5.0",
          "state": {
            "_view_name": "HTMLView",
            "style": "IPY_MODEL_aa88a261eb7a476f9b255c473ea9c76c",
            "_dom_classes": [],
            "description": "",
            "_model_name": "HTMLModel",
            "placeholder": "​",
            "_view_module": "@jupyter-widgets/controls",
            "_model_module_version": "1.5.0",
            "value": "100%",
            "_view_count": null,
            "_view_module_version": "1.5.0",
            "description_tooltip": null,
            "_model_module": "@jupyter-widgets/controls",
            "layout": "IPY_MODEL_24c3d410459945ee80817b1a95a9135e"
          }
        },
        "f77ba35aaff64b45b259e461b2a98f61": {
          "model_module": "@jupyter-widgets/controls",
          "model_name": "FloatProgressModel",
          "model_module_version": "1.5.0",
          "state": {
            "_view_name": "ProgressView",
            "style": "IPY_MODEL_2af29594a50d429f83608f45d4bbdc4b",
            "_dom_classes": [],
            "description": "",
            "_model_name": "FloatProgressModel",
            "bar_style": "success",
            "max": 15,
            "_view_module": "@jupyter-widgets/controls",
            "_model_module_version": "1.5.0",
            "value": 15,
            "_view_count": null,
            "_view_module_version": "1.5.0",
            "orientation": "horizontal",
            "min": 0,
            "description_tooltip": null,
            "_model_module": "@jupyter-widgets/controls",
            "layout": "IPY_MODEL_bcaf7fe64d4d4620b4fd3f3cb88d9370"
          }
        },
        "c89c4c1f44614a8d8f5ea3a2a9bf9e47": {
          "model_module": "@jupyter-widgets/controls",
          "model_name": "HTMLModel",
          "model_module_version": "1.5.0",
          "state": {
            "_view_name": "HTMLView",
            "style": "IPY_MODEL_d4c17fe4c5334a339e31ff976c0456a5",
            "_dom_classes": [],
            "description": "",
            "_model_name": "HTMLModel",
            "placeholder": "​",
            "_view_module": "@jupyter-widgets/controls",
            "_model_module_version": "1.5.0",
            "value": " 15/15 [04:45&lt;00:00, 18.99s/it]",
            "_view_count": null,
            "_view_module_version": "1.5.0",
            "description_tooltip": null,
            "_model_module": "@jupyter-widgets/controls",
            "layout": "IPY_MODEL_aac507f8d1f3492ea05750fc2932d135"
          }
        },
        "aa88a261eb7a476f9b255c473ea9c76c": {
          "model_module": "@jupyter-widgets/controls",
          "model_name": "DescriptionStyleModel",
          "model_module_version": "1.5.0",
          "state": {
            "_view_name": "StyleView",
            "_model_name": "DescriptionStyleModel",
            "description_width": "",
            "_view_module": "@jupyter-widgets/base",
            "_model_module_version": "1.5.0",
            "_view_count": null,
            "_view_module_version": "1.2.0",
            "_model_module": "@jupyter-widgets/controls"
          }
        },
        "24c3d410459945ee80817b1a95a9135e": {
          "model_module": "@jupyter-widgets/base",
          "model_name": "LayoutModel",
          "model_module_version": "1.2.0",
          "state": {
            "_view_name": "LayoutView",
            "grid_template_rows": null,
            "right": null,
            "justify_content": null,
            "_view_module": "@jupyter-widgets/base",
            "overflow": null,
            "_model_module_version": "1.2.0",
            "_view_count": null,
            "flex_flow": null,
            "width": null,
            "min_width": null,
            "border": null,
            "align_items": null,
            "bottom": null,
            "_model_module": "@jupyter-widgets/base",
            "top": null,
            "grid_column": null,
            "overflow_y": null,
            "overflow_x": null,
            "grid_auto_flow": null,
            "grid_area": null,
            "grid_template_columns": null,
            "flex": null,
            "_model_name": "LayoutModel",
            "justify_items": null,
            "grid_row": null,
            "max_height": null,
            "align_content": null,
            "visibility": null,
            "align_self": null,
            "height": null,
            "min_height": null,
            "padding": null,
            "grid_auto_rows": null,
            "grid_gap": null,
            "max_width": null,
            "order": null,
            "_view_module_version": "1.2.0",
            "grid_template_areas": null,
            "object_position": null,
            "object_fit": null,
            "grid_auto_columns": null,
            "margin": null,
            "display": null,
            "left": null
          }
        },
        "2af29594a50d429f83608f45d4bbdc4b": {
          "model_module": "@jupyter-widgets/controls",
          "model_name": "ProgressStyleModel",
          "model_module_version": "1.5.0",
          "state": {
            "_view_name": "StyleView",
            "_model_name": "ProgressStyleModel",
            "description_width": "",
            "_view_module": "@jupyter-widgets/base",
            "_model_module_version": "1.5.0",
            "_view_count": null,
            "_view_module_version": "1.2.0",
            "bar_color": null,
            "_model_module": "@jupyter-widgets/controls"
          }
        },
        "bcaf7fe64d4d4620b4fd3f3cb88d9370": {
          "model_module": "@jupyter-widgets/base",
          "model_name": "LayoutModel",
          "model_module_version": "1.2.0",
          "state": {
            "_view_name": "LayoutView",
            "grid_template_rows": null,
            "right": null,
            "justify_content": null,
            "_view_module": "@jupyter-widgets/base",
            "overflow": null,
            "_model_module_version": "1.2.0",
            "_view_count": null,
            "flex_flow": null,
            "width": null,
            "min_width": null,
            "border": null,
            "align_items": null,
            "bottom": null,
            "_model_module": "@jupyter-widgets/base",
            "top": null,
            "grid_column": null,
            "overflow_y": null,
            "overflow_x": null,
            "grid_auto_flow": null,
            "grid_area": null,
            "grid_template_columns": null,
            "flex": null,
            "_model_name": "LayoutModel",
            "justify_items": null,
            "grid_row": null,
            "max_height": null,
            "align_content": null,
            "visibility": null,
            "align_self": null,
            "height": null,
            "min_height": null,
            "padding": null,
            "grid_auto_rows": null,
            "grid_gap": null,
            "max_width": null,
            "order": null,
            "_view_module_version": "1.2.0",
            "grid_template_areas": null,
            "object_position": null,
            "object_fit": null,
            "grid_auto_columns": null,
            "margin": null,
            "display": null,
            "left": null
          }
        },
        "d4c17fe4c5334a339e31ff976c0456a5": {
          "model_module": "@jupyter-widgets/controls",
          "model_name": "DescriptionStyleModel",
          "model_module_version": "1.5.0",
          "state": {
            "_view_name": "StyleView",
            "_model_name": "DescriptionStyleModel",
            "description_width": "",
            "_view_module": "@jupyter-widgets/base",
            "_model_module_version": "1.5.0",
            "_view_count": null,
            "_view_module_version": "1.2.0",
            "_model_module": "@jupyter-widgets/controls"
          }
        },
        "aac507f8d1f3492ea05750fc2932d135": {
          "model_module": "@jupyter-widgets/base",
          "model_name": "LayoutModel",
          "model_module_version": "1.2.0",
          "state": {
            "_view_name": "LayoutView",
            "grid_template_rows": null,
            "right": null,
            "justify_content": null,
            "_view_module": "@jupyter-widgets/base",
            "overflow": null,
            "_model_module_version": "1.2.0",
            "_view_count": null,
            "flex_flow": null,
            "width": null,
            "min_width": null,
            "border": null,
            "align_items": null,
            "bottom": null,
            "_model_module": "@jupyter-widgets/base",
            "top": null,
            "grid_column": null,
            "overflow_y": null,
            "overflow_x": null,
            "grid_auto_flow": null,
            "grid_area": null,
            "grid_template_columns": null,
            "flex": null,
            "_model_name": "LayoutModel",
            "justify_items": null,
            "grid_row": null,
            "max_height": null,
            "align_content": null,
            "visibility": null,
            "align_self": null,
            "height": null,
            "min_height": null,
            "padding": null,
            "grid_auto_rows": null,
            "grid_gap": null,
            "max_width": null,
            "order": null,
            "_view_module_version": "1.2.0",
            "grid_template_areas": null,
            "object_position": null,
            "object_fit": null,
            "grid_auto_columns": null,
            "margin": null,
            "display": null,
            "left": null
          }
        }
      }
    }
  },
  "cells": [
    {
      "cell_type": "markdown",
      "metadata": {
        "id": "view-in-github",
        "colab_type": "text"
      },
      "source": [
        "<a href=\"https://colab.research.google.com/github/grazder/recommendation_systems/blob/main/HW_1_RECSYS_HSE.ipynb\" target=\"_parent\"><img src=\"https://colab.research.google.com/assets/colab-badge.svg\" alt=\"Open In Colab\"/></a>"
      ]
    },
    {
      "cell_type": "markdown",
      "metadata": {
        "id": "gjdU4byWOPKm"
      },
      "source": [
        "### Матричные факторизации"
      ]
    },
    {
      "cell_type": "markdown",
      "metadata": {
        "id": "oXkL7x7dOPKq"
      },
      "source": [
        "В данной работе вам предстоит познакомиться с практической стороной матричных разложений.\n",
        "Работа поделена на 4 задания:\n",
        "1. Вам необходимо реализовать SVD разложения используя SGD на explicit данных\n",
        "2. Вам необходимо реализовать матричное разложения используя ALS на implicit данных\n",
        "3. Вам необходимо реализовать матричное разложения используя BPR на implicit данных\n",
        "4. Вам необходимо реализовать матричное разложения используя WARP на implicit данных\n",
        "\n",
        "Мягкий дедлайн 13 Октября (пишутся замечания, выставляется оценка, есть возможность исправить до жесткого дедлайна)\n",
        "\n",
        "Жесткий дедлайн 20 Октября (Итоговая проверка)"
      ]
    },
    {
      "cell_type": "code",
      "metadata": {
        "colab": {
          "base_uri": "https://localhost:8080/"
        },
        "id": "6SpbvYLFOiso",
        "outputId": "65eb2c9b-b2ee-45a3-a224-af5747faa250"
      },
      "source": [
        "!pip install implicit"
      ],
      "execution_count": 1,
      "outputs": [
        {
          "output_type": "stream",
          "name": "stdout",
          "text": [
            "Collecting implicit\n",
            "  Downloading implicit-0.4.8.tar.gz (1.1 MB)\n",
            "\u001b[?25l\r\u001b[K     |▎                               | 10 kB 25.4 MB/s eta 0:00:01\r\u001b[K     |▋                               | 20 kB 31.5 MB/s eta 0:00:01\r\u001b[K     |▉                               | 30 kB 20.5 MB/s eta 0:00:01\r\u001b[K     |█▏                              | 40 kB 17.2 MB/s eta 0:00:01\r\u001b[K     |█▍                              | 51 kB 5.6 MB/s eta 0:00:01\r\u001b[K     |█▊                              | 61 kB 6.1 MB/s eta 0:00:01\r\u001b[K     |██                              | 71 kB 6.6 MB/s eta 0:00:01\r\u001b[K     |██▎                             | 81 kB 6.3 MB/s eta 0:00:01\r\u001b[K     |██▋                             | 92 kB 6.3 MB/s eta 0:00:01\r\u001b[K     |██▉                             | 102 kB 6.9 MB/s eta 0:00:01\r\u001b[K     |███▏                            | 112 kB 6.9 MB/s eta 0:00:01\r\u001b[K     |███▍                            | 122 kB 6.9 MB/s eta 0:00:01\r\u001b[K     |███▊                            | 133 kB 6.9 MB/s eta 0:00:01\r\u001b[K     |████                            | 143 kB 6.9 MB/s eta 0:00:01\r\u001b[K     |████▎                           | 153 kB 6.9 MB/s eta 0:00:01\r\u001b[K     |████▋                           | 163 kB 6.9 MB/s eta 0:00:01\r\u001b[K     |████▉                           | 174 kB 6.9 MB/s eta 0:00:01\r\u001b[K     |█████▏                          | 184 kB 6.9 MB/s eta 0:00:01\r\u001b[K     |█████▍                          | 194 kB 6.9 MB/s eta 0:00:01\r\u001b[K     |█████▊                          | 204 kB 6.9 MB/s eta 0:00:01\r\u001b[K     |██████                          | 215 kB 6.9 MB/s eta 0:00:01\r\u001b[K     |██████▎                         | 225 kB 6.9 MB/s eta 0:00:01\r\u001b[K     |██████▋                         | 235 kB 6.9 MB/s eta 0:00:01\r\u001b[K     |██████▉                         | 245 kB 6.9 MB/s eta 0:00:01\r\u001b[K     |███████▏                        | 256 kB 6.9 MB/s eta 0:00:01\r\u001b[K     |███████▌                        | 266 kB 6.9 MB/s eta 0:00:01\r\u001b[K     |███████▊                        | 276 kB 6.9 MB/s eta 0:00:01\r\u001b[K     |████████                        | 286 kB 6.9 MB/s eta 0:00:01\r\u001b[K     |████████▎                       | 296 kB 6.9 MB/s eta 0:00:01\r\u001b[K     |████████▋                       | 307 kB 6.9 MB/s eta 0:00:01\r\u001b[K     |████████▉                       | 317 kB 6.9 MB/s eta 0:00:01\r\u001b[K     |█████████▏                      | 327 kB 6.9 MB/s eta 0:00:01\r\u001b[K     |█████████▌                      | 337 kB 6.9 MB/s eta 0:00:01\r\u001b[K     |█████████▊                      | 348 kB 6.9 MB/s eta 0:00:01\r\u001b[K     |██████████                      | 358 kB 6.9 MB/s eta 0:00:01\r\u001b[K     |██████████▎                     | 368 kB 6.9 MB/s eta 0:00:01\r\u001b[K     |██████████▋                     | 378 kB 6.9 MB/s eta 0:00:01\r\u001b[K     |██████████▉                     | 389 kB 6.9 MB/s eta 0:00:01\r\u001b[K     |███████████▏                    | 399 kB 6.9 MB/s eta 0:00:01\r\u001b[K     |███████████▌                    | 409 kB 6.9 MB/s eta 0:00:01\r\u001b[K     |███████████▊                    | 419 kB 6.9 MB/s eta 0:00:01\r\u001b[K     |████████████                    | 430 kB 6.9 MB/s eta 0:00:01\r\u001b[K     |████████████▎                   | 440 kB 6.9 MB/s eta 0:00:01\r\u001b[K     |████████████▋                   | 450 kB 6.9 MB/s eta 0:00:01\r\u001b[K     |█████████████                   | 460 kB 6.9 MB/s eta 0:00:01\r\u001b[K     |█████████████▏                  | 471 kB 6.9 MB/s eta 0:00:01\r\u001b[K     |█████████████▌                  | 481 kB 6.9 MB/s eta 0:00:01\r\u001b[K     |█████████████▊                  | 491 kB 6.9 MB/s eta 0:00:01\r\u001b[K     |██████████████                  | 501 kB 6.9 MB/s eta 0:00:01\r\u001b[K     |██████████████▎                 | 512 kB 6.9 MB/s eta 0:00:01\r\u001b[K     |██████████████▋                 | 522 kB 6.9 MB/s eta 0:00:01\r\u001b[K     |███████████████                 | 532 kB 6.9 MB/s eta 0:00:01\r\u001b[K     |███████████████▏                | 542 kB 6.9 MB/s eta 0:00:01\r\u001b[K     |███████████████▌                | 552 kB 6.9 MB/s eta 0:00:01\r\u001b[K     |███████████████▊                | 563 kB 6.9 MB/s eta 0:00:01\r\u001b[K     |████████████████                | 573 kB 6.9 MB/s eta 0:00:01\r\u001b[K     |████████████████▎               | 583 kB 6.9 MB/s eta 0:00:01\r\u001b[K     |████████████████▋               | 593 kB 6.9 MB/s eta 0:00:01\r\u001b[K     |█████████████████               | 604 kB 6.9 MB/s eta 0:00:01\r\u001b[K     |█████████████████▏              | 614 kB 6.9 MB/s eta 0:00:01\r\u001b[K     |█████████████████▌              | 624 kB 6.9 MB/s eta 0:00:01\r\u001b[K     |█████████████████▊              | 634 kB 6.9 MB/s eta 0:00:01\r\u001b[K     |██████████████████              | 645 kB 6.9 MB/s eta 0:00:01\r\u001b[K     |██████████████████▍             | 655 kB 6.9 MB/s eta 0:00:01\r\u001b[K     |██████████████████▋             | 665 kB 6.9 MB/s eta 0:00:01\r\u001b[K     |███████████████████             | 675 kB 6.9 MB/s eta 0:00:01\r\u001b[K     |███████████████████▏            | 686 kB 6.9 MB/s eta 0:00:01\r\u001b[K     |███████████████████▌            | 696 kB 6.9 MB/s eta 0:00:01\r\u001b[K     |███████████████████▊            | 706 kB 6.9 MB/s eta 0:00:01\r\u001b[K     |████████████████████            | 716 kB 6.9 MB/s eta 0:00:01\r\u001b[K     |████████████████████▍           | 727 kB 6.9 MB/s eta 0:00:01\r\u001b[K     |████████████████████▋           | 737 kB 6.9 MB/s eta 0:00:01\r\u001b[K     |█████████████████████           | 747 kB 6.9 MB/s eta 0:00:01\r\u001b[K     |█████████████████████▏          | 757 kB 6.9 MB/s eta 0:00:01\r\u001b[K     |█████████████████████▌          | 768 kB 6.9 MB/s eta 0:00:01\r\u001b[K     |█████████████████████▊          | 778 kB 6.9 MB/s eta 0:00:01\r\u001b[K     |██████████████████████          | 788 kB 6.9 MB/s eta 0:00:01\r\u001b[K     |██████████████████████▍         | 798 kB 6.9 MB/s eta 0:00:01\r\u001b[K     |██████████████████████▋         | 808 kB 6.9 MB/s eta 0:00:01\r\u001b[K     |███████████████████████         | 819 kB 6.9 MB/s eta 0:00:01\r\u001b[K     |███████████████████████▏        | 829 kB 6.9 MB/s eta 0:00:01\r\u001b[K     |███████████████████████▌        | 839 kB 6.9 MB/s eta 0:00:01\r\u001b[K     |███████████████████████▉        | 849 kB 6.9 MB/s eta 0:00:01\r\u001b[K     |████████████████████████        | 860 kB 6.9 MB/s eta 0:00:01\r\u001b[K     |████████████████████████▍       | 870 kB 6.9 MB/s eta 0:00:01\r\u001b[K     |████████████████████████▋       | 880 kB 6.9 MB/s eta 0:00:01\r\u001b[K     |█████████████████████████       | 890 kB 6.9 MB/s eta 0:00:01\r\u001b[K     |█████████████████████████▏      | 901 kB 6.9 MB/s eta 0:00:01\r\u001b[K     |█████████████████████████▌      | 911 kB 6.9 MB/s eta 0:00:01\r\u001b[K     |█████████████████████████▉      | 921 kB 6.9 MB/s eta 0:00:01\r\u001b[K     |██████████████████████████      | 931 kB 6.9 MB/s eta 0:00:01\r\u001b[K     |██████████████████████████▍     | 942 kB 6.9 MB/s eta 0:00:01\r\u001b[K     |██████████████████████████▋     | 952 kB 6.9 MB/s eta 0:00:01\r\u001b[K     |███████████████████████████     | 962 kB 6.9 MB/s eta 0:00:01\r\u001b[K     |███████████████████████████▏    | 972 kB 6.9 MB/s eta 0:00:01\r\u001b[K     |███████████████████████████▌    | 983 kB 6.9 MB/s eta 0:00:01\r\u001b[K     |███████████████████████████▉    | 993 kB 6.9 MB/s eta 0:00:01\r\u001b[K     |████████████████████████████    | 1.0 MB 6.9 MB/s eta 0:00:01\r\u001b[K     |████████████████████████████▍   | 1.0 MB 6.9 MB/s eta 0:00:01\r\u001b[K     |████████████████████████████▋   | 1.0 MB 6.9 MB/s eta 0:00:01\r\u001b[K     |█████████████████████████████   | 1.0 MB 6.9 MB/s eta 0:00:01\r\u001b[K     |█████████████████████████████▎  | 1.0 MB 6.9 MB/s eta 0:00:01\r\u001b[K     |█████████████████████████████▌  | 1.1 MB 6.9 MB/s eta 0:00:01\r\u001b[K     |█████████████████████████████▉  | 1.1 MB 6.9 MB/s eta 0:00:01\r\u001b[K     |██████████████████████████████  | 1.1 MB 6.9 MB/s eta 0:00:01\r\u001b[K     |██████████████████████████████▍ | 1.1 MB 6.9 MB/s eta 0:00:01\r\u001b[K     |██████████████████████████████▋ | 1.1 MB 6.9 MB/s eta 0:00:01\r\u001b[K     |███████████████████████████████ | 1.1 MB 6.9 MB/s eta 0:00:01\r\u001b[K     |███████████████████████████████▎| 1.1 MB 6.9 MB/s eta 0:00:01\r\u001b[K     |███████████████████████████████▌| 1.1 MB 6.9 MB/s eta 0:00:01\r\u001b[K     |███████████████████████████████▉| 1.1 MB 6.9 MB/s eta 0:00:01\r\u001b[K     |████████████████████████████████| 1.1 MB 6.9 MB/s \n",
            "\u001b[?25h  Installing build dependencies ... \u001b[?25l\u001b[?25hdone\n",
            "  Getting requirements to build wheel ... \u001b[?25l\u001b[?25hdone\n",
            "  Installing backend dependencies ... \u001b[?25l\u001b[?25hdone\n",
            "    Preparing wheel metadata ... \u001b[?25l\u001b[?25hdone\n",
            "Requirement already satisfied: tqdm>=4.27 in /usr/local/lib/python3.7/dist-packages (from implicit) (4.62.3)\n",
            "Requirement already satisfied: scipy>=0.16 in /usr/local/lib/python3.7/dist-packages (from implicit) (1.4.1)\n",
            "Requirement already satisfied: numpy in /usr/local/lib/python3.7/dist-packages (from implicit) (1.19.5)\n",
            "Building wheels for collected packages: implicit\n",
            "  Building wheel for implicit (PEP 517) ... \u001b[?25l\u001b[?25hdone\n",
            "  Created wheel for implicit: filename=implicit-0.4.8-cp37-cp37m-linux_x86_64.whl size=4606559 sha256=28a34b497d64d7469d82ec241128cab55b31850dc0e8da7ca32e66d11c18e346\n",
            "  Stored in directory: /root/.cache/pip/wheels/88/e6/34/25e73cccbaf1a961154bb562a5f86123b68fdbf40e306073d6\n",
            "Successfully built implicit\n",
            "Installing collected packages: implicit\n",
            "Successfully installed implicit-0.4.8\n"
          ]
        }
      ]
    },
    {
      "cell_type": "code",
      "metadata": {
        "colab": {
          "base_uri": "https://localhost:8080/"
        },
        "id": "dxmZFEtBOu9s",
        "outputId": "9f0f4d42-a9dd-4816-f45f-b44524c45f8f"
      },
      "source": [
        "!unzip ml-1m.zip"
      ],
      "execution_count": 2,
      "outputs": [
        {
          "output_type": "stream",
          "name": "stdout",
          "text": [
            "Archive:  ml-1m.zip\n",
            "   creating: ml-1m/\n",
            "  inflating: ml-1m/movies.dat        \n",
            "  inflating: ml-1m/ratings.dat       \n",
            "  inflating: ml-1m/README            \n",
            "  inflating: ml-1m/users.dat         \n"
          ]
        }
      ]
    },
    {
      "cell_type": "code",
      "metadata": {
        "colab": {
          "base_uri": "https://localhost:8080/"
        },
        "id": "qjvR7rfIPbFK",
        "outputId": "c1760f7a-5a5d-4934-face-e2655517bdd4"
      },
      "source": [
        "!pip install lightfm"
      ],
      "execution_count": 3,
      "outputs": [
        {
          "output_type": "stream",
          "name": "stdout",
          "text": [
            "Collecting lightfm\n",
            "  Downloading lightfm-1.16.tar.gz (310 kB)\n",
            "\u001b[?25l\r\u001b[K     |█                               | 10 kB 33.7 MB/s eta 0:00:01\r\u001b[K     |██▏                             | 20 kB 22.6 MB/s eta 0:00:01\r\u001b[K     |███▏                            | 30 kB 16.9 MB/s eta 0:00:01\r\u001b[K     |████▎                           | 40 kB 15.0 MB/s eta 0:00:01\r\u001b[K     |█████▎                          | 51 kB 5.6 MB/s eta 0:00:01\r\u001b[K     |██████▍                         | 61 kB 6.0 MB/s eta 0:00:01\r\u001b[K     |███████▍                        | 71 kB 5.5 MB/s eta 0:00:01\r\u001b[K     |████████▌                       | 81 kB 6.2 MB/s eta 0:00:01\r\u001b[K     |█████████▌                      | 92 kB 6.5 MB/s eta 0:00:01\r\u001b[K     |██████████▋                     | 102 kB 5.4 MB/s eta 0:00:01\r\u001b[K     |███████████▋                    | 112 kB 5.4 MB/s eta 0:00:01\r\u001b[K     |████████████▊                   | 122 kB 5.4 MB/s eta 0:00:01\r\u001b[K     |█████████████▊                  | 133 kB 5.4 MB/s eta 0:00:01\r\u001b[K     |██████████████▉                 | 143 kB 5.4 MB/s eta 0:00:01\r\u001b[K     |███████████████▉                | 153 kB 5.4 MB/s eta 0:00:01\r\u001b[K     |█████████████████               | 163 kB 5.4 MB/s eta 0:00:01\r\u001b[K     |██████████████████              | 174 kB 5.4 MB/s eta 0:00:01\r\u001b[K     |███████████████████             | 184 kB 5.4 MB/s eta 0:00:01\r\u001b[K     |████████████████████            | 194 kB 5.4 MB/s eta 0:00:01\r\u001b[K     |█████████████████████▏          | 204 kB 5.4 MB/s eta 0:00:01\r\u001b[K     |██████████████████████▏         | 215 kB 5.4 MB/s eta 0:00:01\r\u001b[K     |███████████████████████▎        | 225 kB 5.4 MB/s eta 0:00:01\r\u001b[K     |████████████████████████▎       | 235 kB 5.4 MB/s eta 0:00:01\r\u001b[K     |█████████████████████████▍      | 245 kB 5.4 MB/s eta 0:00:01\r\u001b[K     |██████████████████████████▍     | 256 kB 5.4 MB/s eta 0:00:01\r\u001b[K     |███████████████████████████▌    | 266 kB 5.4 MB/s eta 0:00:01\r\u001b[K     |████████████████████████████▌   | 276 kB 5.4 MB/s eta 0:00:01\r\u001b[K     |█████████████████████████████▋  | 286 kB 5.4 MB/s eta 0:00:01\r\u001b[K     |██████████████████████████████▋ | 296 kB 5.4 MB/s eta 0:00:01\r\u001b[K     |███████████████████████████████▊| 307 kB 5.4 MB/s eta 0:00:01\r\u001b[K     |████████████████████████████████| 310 kB 5.4 MB/s \n",
            "\u001b[?25hRequirement already satisfied: numpy in /usr/local/lib/python3.7/dist-packages (from lightfm) (1.19.5)\n",
            "Requirement already satisfied: scipy>=0.17.0 in /usr/local/lib/python3.7/dist-packages (from lightfm) (1.4.1)\n",
            "Requirement already satisfied: requests in /usr/local/lib/python3.7/dist-packages (from lightfm) (2.23.0)\n",
            "Requirement already satisfied: scikit-learn in /usr/local/lib/python3.7/dist-packages (from lightfm) (0.22.2.post1)\n",
            "Requirement already satisfied: urllib3!=1.25.0,!=1.25.1,<1.26,>=1.21.1 in /usr/local/lib/python3.7/dist-packages (from requests->lightfm) (1.24.3)\n",
            "Requirement already satisfied: idna<3,>=2.5 in /usr/local/lib/python3.7/dist-packages (from requests->lightfm) (2.10)\n",
            "Requirement already satisfied: certifi>=2017.4.17 in /usr/local/lib/python3.7/dist-packages (from requests->lightfm) (2021.5.30)\n",
            "Requirement already satisfied: chardet<4,>=3.0.2 in /usr/local/lib/python3.7/dist-packages (from requests->lightfm) (3.0.4)\n",
            "Requirement already satisfied: joblib>=0.11 in /usr/local/lib/python3.7/dist-packages (from scikit-learn->lightfm) (1.0.1)\n",
            "Building wheels for collected packages: lightfm\n",
            "  Building wheel for lightfm (setup.py) ... \u001b[?25l\u001b[?25hdone\n",
            "  Created wheel for lightfm: filename=lightfm-1.16-cp37-cp37m-linux_x86_64.whl size=705387 sha256=9281d04b1cda8309c4d2f5c2990e7b91e9d86c67904fda84ba4fb25edf51822b\n",
            "  Stored in directory: /root/.cache/pip/wheels/f8/56/28/5772a3bd3413d65f03aa452190b00898b680b10028a1021914\n",
            "Successfully built lightfm\n",
            "Installing collected packages: lightfm\n",
            "Successfully installed lightfm-1.16\n"
          ]
        }
      ]
    },
    {
      "cell_type": "code",
      "metadata": {
        "id": "Hziia1slOPKs"
      },
      "source": [
        "import implicit\n",
        "import pandas as pd\n",
        "import numpy as np\n",
        "import scipy.sparse as sp\n",
        "from scipy.sparse.csr import csr_matrix\n",
        "from tqdm.notebook import tqdm\n",
        "import matplotlib.pyplot as plt\n",
        "from sklearn.metrics.pairwise import cosine_similarity\n",
        "\n",
        "from lightfm.datasets import fetch_movielens"
      ],
      "execution_count": 59,
      "outputs": []
    },
    {
      "cell_type": "markdown",
      "metadata": {
        "id": "hWpCabW5OPKt"
      },
      "source": [
        "В данной работе мы будем работать с explicit датасетом movieLens, в котором представленны пары user_id movie_id и rating выставленный пользователем фильму\n",
        "\n",
        "Скачать датасет можно по ссылке https://grouplens.org/datasets/movielens/1m/"
      ]
    },
    {
      "cell_type": "code",
      "metadata": {
        "id": "v0xFg2FAOPKu"
      },
      "source": [
        "ratings = pd.read_csv('ml-1m/ratings.dat', delimiter='::', header=None, \n",
        "        names=['user_id', 'movie_id', 'rating', 'timestamp'], \n",
        "        usecols=['user_id', 'movie_id', 'rating'], engine='python')"
      ],
      "execution_count": 5,
      "outputs": []
    },
    {
      "cell_type": "code",
      "metadata": {
        "id": "ZAuYlZiwOPKv"
      },
      "source": [
        "movie_info = pd.read_csv('ml-1m/movies.dat', delimiter='::', header=None, \n",
        "        names=['movie_id', 'name', 'category'], engine='python')"
      ],
      "execution_count": 6,
      "outputs": []
    },
    {
      "cell_type": "markdown",
      "metadata": {
        "id": "TrARCZePOPKw"
      },
      "source": [
        "Explicit данные"
      ]
    },
    {
      "cell_type": "code",
      "metadata": {
        "colab": {
          "base_uri": "https://localhost:8080/",
          "height": 355
        },
        "id": "ymgpwWExOPKx",
        "outputId": "73b1a8cf-35cd-4b62-c2d7-567bb92d6610"
      },
      "source": [
        "ratings.head(10)"
      ],
      "execution_count": 7,
      "outputs": [
        {
          "output_type": "execute_result",
          "data": {
            "text/html": [
              "<div>\n",
              "<style scoped>\n",
              "    .dataframe tbody tr th:only-of-type {\n",
              "        vertical-align: middle;\n",
              "    }\n",
              "\n",
              "    .dataframe tbody tr th {\n",
              "        vertical-align: top;\n",
              "    }\n",
              "\n",
              "    .dataframe thead th {\n",
              "        text-align: right;\n",
              "    }\n",
              "</style>\n",
              "<table border=\"1\" class=\"dataframe\">\n",
              "  <thead>\n",
              "    <tr style=\"text-align: right;\">\n",
              "      <th></th>\n",
              "      <th>user_id</th>\n",
              "      <th>movie_id</th>\n",
              "      <th>rating</th>\n",
              "    </tr>\n",
              "  </thead>\n",
              "  <tbody>\n",
              "    <tr>\n",
              "      <th>0</th>\n",
              "      <td>1</td>\n",
              "      <td>1193</td>\n",
              "      <td>5</td>\n",
              "    </tr>\n",
              "    <tr>\n",
              "      <th>1</th>\n",
              "      <td>1</td>\n",
              "      <td>661</td>\n",
              "      <td>3</td>\n",
              "    </tr>\n",
              "    <tr>\n",
              "      <th>2</th>\n",
              "      <td>1</td>\n",
              "      <td>914</td>\n",
              "      <td>3</td>\n",
              "    </tr>\n",
              "    <tr>\n",
              "      <th>3</th>\n",
              "      <td>1</td>\n",
              "      <td>3408</td>\n",
              "      <td>4</td>\n",
              "    </tr>\n",
              "    <tr>\n",
              "      <th>4</th>\n",
              "      <td>1</td>\n",
              "      <td>2355</td>\n",
              "      <td>5</td>\n",
              "    </tr>\n",
              "    <tr>\n",
              "      <th>5</th>\n",
              "      <td>1</td>\n",
              "      <td>1197</td>\n",
              "      <td>3</td>\n",
              "    </tr>\n",
              "    <tr>\n",
              "      <th>6</th>\n",
              "      <td>1</td>\n",
              "      <td>1287</td>\n",
              "      <td>5</td>\n",
              "    </tr>\n",
              "    <tr>\n",
              "      <th>7</th>\n",
              "      <td>1</td>\n",
              "      <td>2804</td>\n",
              "      <td>5</td>\n",
              "    </tr>\n",
              "    <tr>\n",
              "      <th>8</th>\n",
              "      <td>1</td>\n",
              "      <td>594</td>\n",
              "      <td>4</td>\n",
              "    </tr>\n",
              "    <tr>\n",
              "      <th>9</th>\n",
              "      <td>1</td>\n",
              "      <td>919</td>\n",
              "      <td>4</td>\n",
              "    </tr>\n",
              "  </tbody>\n",
              "</table>\n",
              "</div>"
            ],
            "text/plain": [
              "   user_id  movie_id  rating\n",
              "0        1      1193       5\n",
              "1        1       661       3\n",
              "2        1       914       3\n",
              "3        1      3408       4\n",
              "4        1      2355       5\n",
              "5        1      1197       3\n",
              "6        1      1287       5\n",
              "7        1      2804       5\n",
              "8        1       594       4\n",
              "9        1       919       4"
            ]
          },
          "metadata": {},
          "execution_count": 7
        }
      ]
    },
    {
      "cell_type": "markdown",
      "metadata": {
        "id": "271jvPtvOPK0"
      },
      "source": [
        "Для того, чтобы преобразовать текущий датасет в Implicit, давайте считать что позитивная оценка это оценка >=4"
      ]
    },
    {
      "cell_type": "code",
      "metadata": {
        "id": "ILhxXIh7OPK1"
      },
      "source": [
        "implicit_ratings = ratings.loc[(ratings['rating'] >= 4)]"
      ],
      "execution_count": 8,
      "outputs": []
    },
    {
      "cell_type": "code",
      "metadata": {
        "colab": {
          "base_uri": "https://localhost:8080/",
          "height": 355
        },
        "id": "4fadNOsSOPK2",
        "outputId": "5eff4a4a-77c2-4414-fc38-1ba7316e199b"
      },
      "source": [
        "implicit_ratings.head(10)"
      ],
      "execution_count": 9,
      "outputs": [
        {
          "output_type": "execute_result",
          "data": {
            "text/html": [
              "<div>\n",
              "<style scoped>\n",
              "    .dataframe tbody tr th:only-of-type {\n",
              "        vertical-align: middle;\n",
              "    }\n",
              "\n",
              "    .dataframe tbody tr th {\n",
              "        vertical-align: top;\n",
              "    }\n",
              "\n",
              "    .dataframe thead th {\n",
              "        text-align: right;\n",
              "    }\n",
              "</style>\n",
              "<table border=\"1\" class=\"dataframe\">\n",
              "  <thead>\n",
              "    <tr style=\"text-align: right;\">\n",
              "      <th></th>\n",
              "      <th>user_id</th>\n",
              "      <th>movie_id</th>\n",
              "      <th>rating</th>\n",
              "    </tr>\n",
              "  </thead>\n",
              "  <tbody>\n",
              "    <tr>\n",
              "      <th>0</th>\n",
              "      <td>1</td>\n",
              "      <td>1193</td>\n",
              "      <td>5</td>\n",
              "    </tr>\n",
              "    <tr>\n",
              "      <th>3</th>\n",
              "      <td>1</td>\n",
              "      <td>3408</td>\n",
              "      <td>4</td>\n",
              "    </tr>\n",
              "    <tr>\n",
              "      <th>4</th>\n",
              "      <td>1</td>\n",
              "      <td>2355</td>\n",
              "      <td>5</td>\n",
              "    </tr>\n",
              "    <tr>\n",
              "      <th>6</th>\n",
              "      <td>1</td>\n",
              "      <td>1287</td>\n",
              "      <td>5</td>\n",
              "    </tr>\n",
              "    <tr>\n",
              "      <th>7</th>\n",
              "      <td>1</td>\n",
              "      <td>2804</td>\n",
              "      <td>5</td>\n",
              "    </tr>\n",
              "    <tr>\n",
              "      <th>8</th>\n",
              "      <td>1</td>\n",
              "      <td>594</td>\n",
              "      <td>4</td>\n",
              "    </tr>\n",
              "    <tr>\n",
              "      <th>9</th>\n",
              "      <td>1</td>\n",
              "      <td>919</td>\n",
              "      <td>4</td>\n",
              "    </tr>\n",
              "    <tr>\n",
              "      <th>10</th>\n",
              "      <td>1</td>\n",
              "      <td>595</td>\n",
              "      <td>5</td>\n",
              "    </tr>\n",
              "    <tr>\n",
              "      <th>11</th>\n",
              "      <td>1</td>\n",
              "      <td>938</td>\n",
              "      <td>4</td>\n",
              "    </tr>\n",
              "    <tr>\n",
              "      <th>12</th>\n",
              "      <td>1</td>\n",
              "      <td>2398</td>\n",
              "      <td>4</td>\n",
              "    </tr>\n",
              "  </tbody>\n",
              "</table>\n",
              "</div>"
            ],
            "text/plain": [
              "    user_id  movie_id  rating\n",
              "0         1      1193       5\n",
              "3         1      3408       4\n",
              "4         1      2355       5\n",
              "6         1      1287       5\n",
              "7         1      2804       5\n",
              "8         1       594       4\n",
              "9         1       919       4\n",
              "10        1       595       5\n",
              "11        1       938       4\n",
              "12        1      2398       4"
            ]
          },
          "metadata": {},
          "execution_count": 9
        }
      ]
    },
    {
      "cell_type": "markdown",
      "metadata": {
        "id": "ScMDOnHaOPK2"
      },
      "source": [
        "Удобнее работать с sparse матричками, давайте преобразуем DataFrame в CSR матрицы"
      ]
    },
    {
      "cell_type": "code",
      "metadata": {
        "id": "CqQQoHGsOPK3"
      },
      "source": [
        "users = implicit_ratings[\"user_id\"]\n",
        "movies = implicit_ratings[\"movie_id\"]\n",
        "user_item = sp.coo_matrix((np.ones_like(users), (users, movies)))\n",
        "user_item_t_csr = user_item.T.tocsr()\n",
        "user_item_csr = user_item.tocsr()"
      ],
      "execution_count": 10,
      "outputs": []
    },
    {
      "cell_type": "markdown",
      "metadata": {
        "id": "2eZLt1hTOPK4"
      },
      "source": [
        "В качестве примера воспользуемся ALS разложением из библиотеки implicit\n",
        "\n",
        "Зададим размерность латентного пространства равным 64, это же определяет размер user/item эмбедингов"
      ]
    },
    {
      "cell_type": "code",
      "metadata": {
        "id": "72M4eTi5OPK5"
      },
      "source": [
        "model = implicit.als.AlternatingLeastSquares(factors=64, iterations=100, calculate_training_loss=True)"
      ],
      "execution_count": 11,
      "outputs": []
    },
    {
      "cell_type": "markdown",
      "metadata": {
        "id": "-7_jXH29OPK6"
      },
      "source": [
        "В качестве loss здесь всеми любимый RMSE"
      ]
    },
    {
      "cell_type": "code",
      "metadata": {
        "colab": {
          "base_uri": "https://localhost:8080/",
          "height": 49,
          "referenced_widgets": [
            "c8a44b7ee3374d60ad4921d2360807c6",
            "cb7359a502ea4cbcac528a86cc89d3f1",
            "21160ca3a6ef440d900b85c4d142cbb0",
            "bf037ec8e5994fcbb86ecac473f3d49d",
            "5db49c01fc364d6e90df754a57eaff96",
            "2739a79fe4764b21beeb2e7bc7fbae3d",
            "20afc096d51c43ff8746ee36e559ecde",
            "9f6e1d362b3c467591340256185bfffb",
            "3f6249dc44754172bb88754b066f4a38",
            "e247ab8dd2f44a8ea1441c4ce7a6e5e3",
            "94c4dd4b4ae3482f97fbd40bba6d139e"
          ]
        },
        "id": "CCytZCEVOPK7",
        "outputId": "9dd97093-11b2-44f3-ef16-195c66fa2d10"
      },
      "source": [
        "model.fit(user_item_t_csr)"
      ],
      "execution_count": 12,
      "outputs": [
        {
          "output_type": "display_data",
          "data": {
            "application/vnd.jupyter.widget-view+json": {
              "model_id": "c8a44b7ee3374d60ad4921d2360807c6",
              "version_minor": 0,
              "version_major": 2
            },
            "text/plain": [
              "  0%|          | 0/100 [00:00<?, ?it/s]"
            ]
          },
          "metadata": {}
        }
      ]
    },
    {
      "cell_type": "markdown",
      "metadata": {
        "id": "4K5LVdw4OPK8"
      },
      "source": [
        "Построим похожие фильмы по 1 movie_id = Истории игрушек"
      ]
    },
    {
      "cell_type": "code",
      "metadata": {
        "colab": {
          "base_uri": "https://localhost:8080/",
          "height": 202
        },
        "id": "uGju-WziOPK9",
        "outputId": "2036e8f9-b08d-47da-9c2c-b8979628652c"
      },
      "source": [
        "movie_info.head(5)"
      ],
      "execution_count": 13,
      "outputs": [
        {
          "output_type": "execute_result",
          "data": {
            "text/html": [
              "<div>\n",
              "<style scoped>\n",
              "    .dataframe tbody tr th:only-of-type {\n",
              "        vertical-align: middle;\n",
              "    }\n",
              "\n",
              "    .dataframe tbody tr th {\n",
              "        vertical-align: top;\n",
              "    }\n",
              "\n",
              "    .dataframe thead th {\n",
              "        text-align: right;\n",
              "    }\n",
              "</style>\n",
              "<table border=\"1\" class=\"dataframe\">\n",
              "  <thead>\n",
              "    <tr style=\"text-align: right;\">\n",
              "      <th></th>\n",
              "      <th>movie_id</th>\n",
              "      <th>name</th>\n",
              "      <th>category</th>\n",
              "    </tr>\n",
              "  </thead>\n",
              "  <tbody>\n",
              "    <tr>\n",
              "      <th>0</th>\n",
              "      <td>1</td>\n",
              "      <td>Toy Story (1995)</td>\n",
              "      <td>Animation|Children's|Comedy</td>\n",
              "    </tr>\n",
              "    <tr>\n",
              "      <th>1</th>\n",
              "      <td>2</td>\n",
              "      <td>Jumanji (1995)</td>\n",
              "      <td>Adventure|Children's|Fantasy</td>\n",
              "    </tr>\n",
              "    <tr>\n",
              "      <th>2</th>\n",
              "      <td>3</td>\n",
              "      <td>Grumpier Old Men (1995)</td>\n",
              "      <td>Comedy|Romance</td>\n",
              "    </tr>\n",
              "    <tr>\n",
              "      <th>3</th>\n",
              "      <td>4</td>\n",
              "      <td>Waiting to Exhale (1995)</td>\n",
              "      <td>Comedy|Drama</td>\n",
              "    </tr>\n",
              "    <tr>\n",
              "      <th>4</th>\n",
              "      <td>5</td>\n",
              "      <td>Father of the Bride Part II (1995)</td>\n",
              "      <td>Comedy</td>\n",
              "    </tr>\n",
              "  </tbody>\n",
              "</table>\n",
              "</div>"
            ],
            "text/plain": [
              "   movie_id                                name                      category\n",
              "0         1                    Toy Story (1995)   Animation|Children's|Comedy\n",
              "1         2                      Jumanji (1995)  Adventure|Children's|Fantasy\n",
              "2         3             Grumpier Old Men (1995)                Comedy|Romance\n",
              "3         4            Waiting to Exhale (1995)                  Comedy|Drama\n",
              "4         5  Father of the Bride Part II (1995)                        Comedy"
            ]
          },
          "metadata": {},
          "execution_count": 13
        }
      ]
    },
    {
      "cell_type": "code",
      "metadata": {
        "id": "-LQ6qJcsOPK-"
      },
      "source": [
        "get_similars = lambda item_id, model : [movie_info[movie_info[\"movie_id\"] == x[0]][\"name\"].to_string() \n",
        "                                        for x in model.similar_items(item_id)]"
      ],
      "execution_count": 14,
      "outputs": []
    },
    {
      "cell_type": "markdown",
      "metadata": {
        "id": "sicVFtWTOPK_"
      },
      "source": [
        "Как мы видим, симилары действительно оказались симиларами.\n",
        "\n",
        "Качество симиларов часто является хорошим способом проверить качество алгоритмов.\n",
        "\n",
        "P.S. Если хочется поглубже разобраться в том как разные алгоритмы формируют разные латентные пространства, рекомендую загружать полученные вектора в tensorBoard и смотреть на сформированное пространство"
      ]
    },
    {
      "cell_type": "code",
      "metadata": {
        "colab": {
          "base_uri": "https://localhost:8080/"
        },
        "id": "_ZlEF4HOOPLB",
        "outputId": "44106d6e-696c-4658-eb6a-cc9db11d120a"
      },
      "source": [
        "get_similars(1, model)"
      ],
      "execution_count": 15,
      "outputs": [
        {
          "output_type": "execute_result",
          "data": {
            "text/plain": [
              "['0    Toy Story (1995)',\n",
              " '3045    Toy Story 2 (1999)',\n",
              " \"2286    Bug's Life, A (1998)\",\n",
              " '33    Babe (1995)',\n",
              " '584    Aladdin (1992)',\n",
              " '2315    Babe: Pig in the City (1998)',\n",
              " '1838    Mulan (1998)',\n",
              " '360    Lion King, The (1994)',\n",
              " '2618    Tarzan (1999)',\n",
              " '1526    Hercules (1997)']"
            ]
          },
          "metadata": {},
          "execution_count": 15
        }
      ]
    },
    {
      "cell_type": "markdown",
      "metadata": {
        "id": "QQSWqA5wOPLB"
      },
      "source": [
        "Давайте теперь построим рекомендации для юзеров\n",
        "\n",
        "Как мы видим юзеру нравится фантастика, значит и в рекомендациях ожидаем увидеть фантастику"
      ]
    },
    {
      "cell_type": "code",
      "metadata": {
        "id": "ookAAup6OPLC"
      },
      "source": [
        "get_user_history = lambda user_id, implicit_ratings : [movie_info[movie_info[\"movie_id\"] == x][\"name\"].to_string() \n",
        "                                            for x in implicit_ratings[implicit_ratings[\"user_id\"] == user_id][\"movie_id\"]]"
      ],
      "execution_count": 16,
      "outputs": []
    },
    {
      "cell_type": "code",
      "metadata": {
        "colab": {
          "base_uri": "https://localhost:8080/"
        },
        "id": "X08pJLmJOPLD",
        "outputId": "894fa0ca-9634-42a0-c0b8-9b0943f97c30"
      },
      "source": [
        "get_user_history(4, implicit_ratings)"
      ],
      "execution_count": 17,
      "outputs": [
        {
          "output_type": "execute_result",
          "data": {
            "text/plain": [
              "['3399    Hustler, The (1961)',\n",
              " '2882    Fistful of Dollars, A (1964)',\n",
              " '1196    Alien (1979)',\n",
              " '1023    Die Hard (1988)',\n",
              " '257    Star Wars: Episode IV - A New Hope (1977)',\n",
              " '1959    Saving Private Ryan (1998)',\n",
              " '476    Jurassic Park (1993)',\n",
              " '1180    Raiders of the Lost Ark (1981)',\n",
              " '1885    Rocky (1976)',\n",
              " '1081    E.T. the Extra-Terrestrial (1982)',\n",
              " '3349    Thelma & Louise (1991)',\n",
              " '3633    Mad Max (1979)',\n",
              " '2297    King Kong (1933)',\n",
              " '1366    Jaws (1975)',\n",
              " '1183    Good, The Bad and The Ugly, The (1966)',\n",
              " '2623    Run Lola Run (Lola rennt) (1998)',\n",
              " '2878    Goldfinger (1964)',\n",
              " '1220    Terminator, The (1984)']"
            ]
          },
          "metadata": {},
          "execution_count": 17
        }
      ]
    },
    {
      "cell_type": "markdown",
      "metadata": {
        "id": "sZQbRNacOPLD"
      },
      "source": [
        "Получилось! \n",
        "\n",
        "Мы действительно порекомендовали пользователю фантастику и боевики, более того встречаются продолжения тех фильмов, которые он высоко оценил"
      ]
    },
    {
      "cell_type": "code",
      "metadata": {
        "id": "C_gTR3V3OPLE"
      },
      "source": [
        "get_recommendations = lambda user_id, model : [movie_info[movie_info[\"movie_id\"] == x[0]][\"name\"].to_string() \n",
        "                                               for x in model.recommend(user_id, user_item_csr)]"
      ],
      "execution_count": 18,
      "outputs": []
    },
    {
      "cell_type": "code",
      "metadata": {
        "colab": {
          "base_uri": "https://localhost:8080/"
        },
        "id": "yTiIFbRMOPLE",
        "outputId": "50080058-63ee-4971-ad4c-dddfe495f904"
      },
      "source": [
        "get_recommendations(4, model)"
      ],
      "execution_count": 19,
      "outputs": [
        {
          "output_type": "execute_result",
          "data": {
            "text/plain": [
              "['585    Terminator 2: Judgment Day (1991)',\n",
              " '1271    Indiana Jones and the Last Crusade (1989)',\n",
              " '1182    Aliens (1986)',\n",
              " '1284    Butch Cassidy and the Sundance Kid (1969)',\n",
              " '2502    Matrix, The (1999)',\n",
              " '1178    Star Wars: Episode V - The Empire Strikes Back...',\n",
              " '1179    Princess Bride, The (1987)',\n",
              " '1892    Rain Man (1988)',\n",
              " '847    Godfather, The (1972)',\n",
              " '3402    Close Encounters of the Third Kind (1977)']"
            ]
          },
          "metadata": {},
          "execution_count": 19
        }
      ]
    },
    {
      "cell_type": "markdown",
      "metadata": {
        "id": "O59eyfX4OPLF"
      },
      "source": [
        "Теперь ваша очередь реализовать самые популярные алгоритмы матричных разложений\n",
        "\n",
        "Что будет оцениваться:\n",
        "1. Корректность алгоритма\n",
        "2. Качество получившихся симиларов\n",
        "3. Качество итоговых рекомендаций для юзера"
      ]
    },
    {
      "cell_type": "code",
      "metadata": {
        "id": "J2giUHueiZnZ"
      },
      "source": [
        "def rmse(y_pred: np.ndarray, y_true: np.ndarray) -> float:\n",
        "    return np.sqrt(((y_true - y_pred) ** 2).mean())"
      ],
      "execution_count": 20,
      "outputs": []
    },
    {
      "cell_type": "code",
      "metadata": {
        "id": "QFnM1Zu-5fMm"
      },
      "source": [
        "new_movie_info = movie_info.copy()\n",
        "new_movie_info['new_name'] = new_movie_info['name'] + ' [' + new_movie_info['category'] + ']'\n",
        "item_names = new_movie_info[[\"movie_id\", \"new_name\"]].set_index(\"movie_id\").to_dict()[\"new_name\"]"
      ],
      "execution_count": 105,
      "outputs": []
    },
    {
      "cell_type": "markdown",
      "metadata": {
        "id": "RDD7L4m6OPLF"
      },
      "source": [
        "### Задание 1. Не использую готовые решения, реализовать SVD разложение используя SGD на explicit данных"
      ]
    },
    {
      "cell_type": "code",
      "metadata": {
        "id": "foX4jEIQOPLG"
      },
      "source": [
        "user_item_explicit = sp.coo_matrix((ratings[\"rating\"], (ratings[\"user_id\"], ratings[\"movie_id\"]))).tocsr()"
      ],
      "execution_count": 106,
      "outputs": []
    },
    {
      "cell_type": "code",
      "metadata": {
        "id": "QN0ZZw8AbwdB"
      },
      "source": [
        "class SVD:\n",
        "    def __init__(self, hid_dim: int, lr: float, iterations: int, \n",
        "                 lam: float, verbose: int = 1):\n",
        "        self._hid_dim = hid_dim\n",
        "        self._lr = lr\n",
        "        self._lam = lam\n",
        "        self._iterations = iterations\n",
        "        self._verbose = verbose\n",
        "        self.W = None\n",
        "        self.H = None\n",
        "    \n",
        "    def _init_weihts(self, n_w: int, n_h: int):\n",
        "        self.W = np.random.uniform(0, np.sqrt(1 / self._hid_dim), size=(n_w, self._hid_dim))\n",
        "        self.H = np.random.uniform(0, np.sqrt(1 / self._hid_dim), size=(n_h, self._hid_dim))\n",
        "\n",
        "    def fit(self, use_item_explicit: csr_matrix):\n",
        "        self._init_weihts(use_item_explicit.shape[0], use_item_explicit.shape[1])\n",
        "        samples = list(zip(*(*user_item_explicit.nonzero(), user_item_explicit.data)))\n",
        "        losses = []\n",
        "        iters = []\n",
        "\n",
        "        for iter in tqdm(range(self._iterations)):\n",
        "            random_sample = np.random.permutation(samples)\n",
        "\n",
        "            for i, j, v in random_sample:\n",
        "                error = self.W[i] @ self.H[j] - v\n",
        "                self.W[i] -= self._lr * (error * self.H[j] + self._lam * self.W[i])\n",
        "                self.H[j] -= self._lr * (error * self.W[i] + self._lam * self.H[j])\n",
        "            \n",
        "            # logging\n",
        "            if iter % self._verbose == 0:\n",
        "                y_pred = (self.W @ self.H.T)[use_item_explicit.nonzero()]\n",
        "                y_true = use_item_explicit.data\n",
        "                rmse_error = rmse(y_pred, y_true)\n",
        "                \n",
        "                losses.append(rmse_error)\n",
        "                iters.append(iter)\n",
        "                \n",
        "                print(f'{iter}: error: {rmse_error}')\n",
        "        \n",
        "        plt.plot(iters, losses)\n",
        "\n",
        "    def find_similar_items(self, item, number=5) -> np.ndarray:\n",
        "        best_dist = cosine_similarity(self.H)[item]\n",
        "        best_items = np.argsort(-best_dist)[:number]\n",
        "        best_items = [item_names[x] for x in best_items]\n",
        "        print(f\"Similars for '{item_names[item]}':\")\n",
        "        print('\\n'.join(best_items))\n",
        "\n",
        "    def get_user_recommendations(self, user, number=5) -> np.ndarray:\n",
        "        best_dist = self.H @ self.W[user]\n",
        "        best_items = np.argsort(-best_dist)[:number]\n",
        "        best_items = [item_names[x] for x in best_items]\n",
        "        print(f\"Recommendations: \")\n",
        "        print('\\n'.join(best_items))"
      ],
      "execution_count": 107,
      "outputs": []
    },
    {
      "cell_type": "code",
      "metadata": {
        "colab": {
          "base_uri": "https://localhost:8080/",
          "height": 472,
          "referenced_widgets": [
            "d44dd83996ba4474bf279c5e821aab48",
            "c009fbcc46d74a2c90fec1cbad7b67b6",
            "75b6a248cd2445aa89558d7800fc3752",
            "8a71224c983e4afeb2867a1e33a7c78f",
            "523284fe7fa0443cb6331a17597676f0",
            "a28bbd94b69e490e8ecd29ab9e5b35e4",
            "4fd09006215147ac94a1dc33ea82b403",
            "c8fe648e08844540a0ccbdb8a0aa8085",
            "0893b0d42e8043c790016638b859050a",
            "6fd5388fc92041a08e22f00b645ce9de",
            "7fc3f8af0ec540288a7623e4131eb75c"
          ]
        },
        "id": "vkwcKljJaNUl",
        "outputId": "53fc42c7-3839-4cee-b0e1-9e7e340a4d45"
      },
      "source": [
        "svd_model = SVD(hid_dim=64, lr=1e-2, iterations=50, lam=1e-2, verbose=5)\n",
        "svd_model.fit(user_item_explicit)"
      ],
      "execution_count": 111,
      "outputs": [
        {
          "output_type": "display_data",
          "data": {
            "application/vnd.jupyter.widget-view+json": {
              "model_id": "d44dd83996ba4474bf279c5e821aab48",
              "version_minor": 0,
              "version_major": 2
            },
            "text/plain": [
              "  0%|          | 0/50 [00:00<?, ?it/s]"
            ]
          },
          "metadata": {}
        },
        {
          "output_type": "stream",
          "name": "stdout",
          "text": [
            "0: error: 0.9480312104402461\n",
            "5: error: 0.8286343820182653\n",
            "10: error: 0.6953854579366116\n",
            "15: error: 0.6223354955059687\n",
            "20: error: 0.5829599292573758\n",
            "25: error: 0.5608012862612509\n",
            "30: error: 0.5459402239703535\n",
            "35: error: 0.5346790012020514\n",
            "40: error: 0.5272561398813242\n",
            "45: error: 0.5215102621189901\n"
          ]
        },
        {
          "output_type": "display_data",
          "data": {
            "image/png": "[encoded data removed]",
            "text/plain": [
              "<Figure size 432x288 with 1 Axes>"
            ]
          },
          "metadata": {
            "needs_background": "light"
          }
        }
      ]
    },
    {
      "cell_type": "code",
      "metadata": {
        "colab": {
          "base_uri": "https://localhost:8080/"
        },
        "id": "ppi_I3OK3Qea",
        "outputId": "f02146bb-bd6d-44d6-8146-c3bea050dfa9"
      },
      "source": [
        "svd_model.get_user_recommendations(1)"
      ],
      "execution_count": 112,
      "outputs": [
        {
          "output_type": "stream",
          "name": "stdout",
          "text": [
            "Recommendations: \n",
            "Cape Fear (1991) [Thriller]\n",
            "On the Beach (1959) [Drama]\n",
            "Exorcist, The (1973) [Horror]\n",
            "Fatal Attraction (1987) [Thriller]\n",
            "Christmas Vacation (1989) [Comedy]\n"
          ]
        }
      ]
    },
    {
      "cell_type": "code",
      "metadata": {
        "colab": {
          "base_uri": "https://localhost:8080/"
        },
        "id": "OAvABCgx688W",
        "outputId": "f6532f66-2998-4481-b12c-8916dc43dd18"
      },
      "source": [
        "svd_model.find_similar_items(1)"
      ],
      "execution_count": 113,
      "outputs": [
        {
          "output_type": "stream",
          "name": "stdout",
          "text": [
            "Similars for 'Toy Story (1995) [Animation|Children's|Comedy]':\n",
            "Toy Story (1995) [Animation|Children's|Comedy]\n",
            "Toy Story 2 (1999) [Animation|Children's|Comedy]\n",
            "Bug's Life, A (1998) [Animation|Children's|Comedy]\n",
            "Confessional, The (Le Confessionnal) (1995) [Drama|Mystery]\n",
            "Leather Jacket Love Story (1997) [Drama|Romance]\n"
          ]
        }
      ]
    },
    {
      "cell_type": "markdown",
      "metadata": {
        "id": "gyH6rzfHOPLG"
      },
      "source": [
        "### Задание 2. Не использую готовые решения, реализовать матричное разложение используя ALS на implicit данных"
      ]
    },
    {
      "cell_type": "code",
      "metadata": {
        "id": "adgCPYXfOPLG"
      },
      "source": [
        "class ALS:\n",
        "    def __init__(self, hid_dim: int, lr: float, iterations: int, \n",
        "                 lam: float, verbose: int = 1):\n",
        "        self._hid_dim = hid_dim\n",
        "        self._lr = lr\n",
        "        self._lam = lam\n",
        "        self._iterations = iterations\n",
        "        self._verbose = verbose\n",
        "        self.U = None\n",
        "        self.Y = None\n",
        "    \n",
        "    def _init_weihts(self, n_w: int, n_h: int):\n",
        "        self.U = np.random.uniform(0, np.sqrt(1 / self._hid_dim), size=(n_w, self._hid_dim))\n",
        "        self.Y = np.random.uniform(0, np.sqrt(1 / self._hid_dim), size=(n_h, self._hid_dim))\n",
        "\n",
        "    def _step(self, user_item: csr_matrix, A: np.ndarray, B: np.array):\n",
        "        B_copy = B.copy()\n",
        "        inv_matrix = np.linalg.inv(A.T @ A + self._lam * np.identity(self._hid_dim))\n",
        "        grads = csr_matrix(inv_matrix @ A.T)\n",
        "\n",
        "        for i in range(B_copy.shape[0]):\n",
        "            R_i = user_item.getrow(i).T\n",
        "            # print(R_i.shape)\n",
        "            B_copy[i] = (grads @ R_i).toarray().squeeze()\n",
        "\n",
        "        return B_copy\n",
        "\n",
        "    def fit(self, use_item_implicit: csr_matrix):\n",
        "        self._init_weihts(use_item_implicit.shape[0], use_item_implicit.shape[1])\n",
        "        losses = []\n",
        "        iters = []\n",
        "\n",
        "        for iter in tqdm(range(self._iterations)):\n",
        "            self.U = self._step(use_item_implicit, self.Y, self.U)\n",
        "            self.Y = self._step(use_item_implicit.T, self.U, self.Y)\n",
        "            \n",
        "            # logging\n",
        "            if iter % self._verbose == 0:\n",
        "                y_pred = (self.U @ self.Y.T)[use_item_implicit.nonzero()]\n",
        "                y_true = use_item_implicit.data\n",
        "                rmse_error = rmse(y_pred, y_true)\n",
        "                \n",
        "                losses.append(rmse_error)\n",
        "                iters.append(iter)\n",
        "                \n",
        "                print(f'{iter}: error: {rmse_error}')\n",
        "        \n",
        "        plt.plot(iters, losses)\n",
        "\n",
        "    def find_similar_items(self, item, number=5) -> np.ndarray:\n",
        "        best_dist = cosine_similarity(self.Y)[item]\n",
        "        best_items = np.argsort(-best_dist)[:number]\n",
        "        best_items = [item_names[x] for x in best_items]\n",
        "        print(f\"Similars for '{item_names[item]}':\")\n",
        "        print('\\n'.join(best_items))\n",
        "\n",
        "    def get_user_recommendations(self, user, number=5) -> np.ndarray:\n",
        "        best_dist = self.Y @ self.U[user]\n",
        "        best_items = np.argsort(-best_dist)[:number]\n",
        "        best_items = [item_names[x] for x in best_items]\n",
        "        print(f\"Recommendations: \")\n",
        "        print('\\n'.join(best_items))"
      ],
      "execution_count": 121,
      "outputs": []
    },
    {
      "cell_type": "code",
      "metadata": {
        "colab": {
          "base_uri": "https://localhost:8080/",
          "height": 349,
          "referenced_widgets": [
            "1a1e3bcc00cb406a84e5d2cdfafed88f",
            "26a855930e9a43a38ee43ede8198ca48",
            "d529f75cf5e54d9aba502da8aa4ba0d4",
            "f77ba35aaff64b45b259e461b2a98f61",
            "c89c4c1f44614a8d8f5ea3a2a9bf9e47",
            "aa88a261eb7a476f9b255c473ea9c76c",
            "24c3d410459945ee80817b1a95a9135e",
            "2af29594a50d429f83608f45d4bbdc4b",
            "bcaf7fe64d4d4620b4fd3f3cb88d9370",
            "d4c17fe4c5334a339e31ff976c0456a5",
            "aac507f8d1f3492ea05750fc2932d135"
          ]
        },
        "id": "HJuGv8XMxdHw",
        "outputId": "0ebfa8d8-0b47-48e0-90cb-990e7a361b29"
      },
      "source": [
        "als_model = ALS(hid_dim=64, lr=1e-2, iterations=15, lam=0, verbose=5)\n",
        "als_model.fit(user_item_csr)"
      ],
      "execution_count": 125,
      "outputs": [
        {
          "output_type": "display_data",
          "data": {
            "application/vnd.jupyter.widget-view+json": {
              "model_id": "1a1e3bcc00cb406a84e5d2cdfafed88f",
              "version_minor": 0,
              "version_major": 2
            },
            "text/plain": [
              "  0%|          | 0/15 [00:00<?, ?it/s]"
            ]
          },
          "metadata": {}
        },
        {
          "output_type": "stream",
          "name": "stdout",
          "text": [
            "0: error: 0.7259584536846612\n",
            "5: error: 0.6395250695129375\n",
            "10: error: 0.6384952329352368\n"
          ]
        },
        {
          "output_type": "display_data",
          "data": {
            "image/png": "[encoded data removed]",
            "text/plain": [
              "<Figure size 432x288 with 1 Axes>"
            ]
          },
          "metadata": {
            "needs_background": "light"
          }
        }
      ]
    },
    {
      "cell_type": "code",
      "metadata": {
        "colab": {
          "base_uri": "https://localhost:8080/"
        },
        "id": "I60P-J3TAegx",
        "outputId": "adce077e-f5f1-43f5-b5b3-f20778ee8748"
      },
      "source": [
        "als_model.get_user_recommendations(1)"
      ],
      "execution_count": 126,
      "outputs": [
        {
          "output_type": "stream",
          "name": "stdout",
          "text": [
            "Recommendations: \n",
            "Toy Story 2 (1999) [Animation|Children's|Comedy]\n",
            "Toy Story (1995) [Animation|Children's|Comedy]\n",
            "Saving Private Ryan (1998) [Action|Drama|War]\n",
            "Schindler's List (1993) [Drama|War]\n",
            "Back to the Future (1985) [Comedy|Sci-Fi]\n"
          ]
        }
      ]
    },
    {
      "cell_type": "code",
      "metadata": {
        "colab": {
          "base_uri": "https://localhost:8080/"
        },
        "id": "WalStii_Aedw",
        "outputId": "aa3505f4-6abd-449b-c237-40cddc58193f"
      },
      "source": [
        "als_model.find_similar_items(1)"
      ],
      "execution_count": 127,
      "outputs": [
        {
          "output_type": "stream",
          "name": "stdout",
          "text": [
            "Similars for 'Toy Story (1995) [Animation|Children's|Comedy]':\n",
            "Toy Story (1995) [Animation|Children's|Comedy]\n",
            "Toy Story 2 (1999) [Animation|Children's|Comedy]\n",
            "Bug's Life, A (1998) [Animation|Children's|Comedy]\n",
            "Aladdin (1992) [Animation|Children's|Comedy|Musical]\n",
            "League of Their Own, A (1992) [Comedy|Drama]\n"
          ]
        }
      ]
    },
    {
      "cell_type": "markdown",
      "metadata": {
        "id": "ai4MH2hLOPLJ"
      },
      "source": [
        "### Задание 3. Не использую готовые решения, реализовать матричное разложение BPR на implicit данных"
      ]
    },
    {
      "cell_type": "code",
      "metadata": {
        "id": "ByHNzL4QOPLK"
      },
      "source": [
        ""
      ],
      "execution_count": null,
      "outputs": []
    },
    {
      "cell_type": "markdown",
      "metadata": {
        "id": "RApUuAA4OPLK"
      },
      "source": [
        "### Задание 4. Не использую готовые решения, реализовать матричное разложение WARP на implicit данных"
      ]
    },
    {
      "cell_type": "code",
      "metadata": {
        "id": "iKgsc8JvOPLL"
      },
      "source": [
        ""
      ],
      "execution_count": null,
      "outputs": []
    }
  ]
}