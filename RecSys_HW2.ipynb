{
  "nbformat": 4,
  "nbformat_minor": 0,
  "metadata": {
    "accelerator": "GPU",
    "colab": {
      "name": "RecSys HW2.ipynb",
      "provenance": [],
      "collapsed_sections": [],
      "authorship_tag": "ABX9TyPF3Wrxqk/0YCIaNlw5QOCf",
      "include_colab_link": true
    },
    "kernelspec": {
      "display_name": "Python 3",
      "name": "python3"
    },
    "language_info": {
      "name": "python"
    },
    "widgets": {
      "application/vnd.jupyter.widget-state+json": {
        "d4d7ce6466a64f2993acf99e495da3ca": {
          "model_module": "@jupyter-widgets/controls",
          "model_name": "HBoxModel",
          "model_module_version": "1.5.0",
          "state": {
            "_view_name": "HBoxView",
            "_dom_classes": [],
            "_model_name": "HBoxModel",
            "_view_module": "@jupyter-widgets/controls",
            "_model_module_version": "1.5.0",
            "_view_count": null,
            "_view_module_version": "1.5.0",
            "box_style": "",
            "layout": "IPY_MODEL_819148faed254999b4741b683bc4f5f6",
            "_model_module": "@jupyter-widgets/controls",
            "children": [
              "IPY_MODEL_5c51dcbb46214a5f9c7aca4885401771",
              "IPY_MODEL_e935b4c963e740fca1766521c6d9f052",
              "IPY_MODEL_be8bde8f12774364a75cdda48f1f91a8"
            ]
          }
        },
        "819148faed254999b4741b683bc4f5f6": {
          "model_module": "@jupyter-widgets/base",
          "model_name": "LayoutModel",
          "model_module_version": "1.2.0",
          "state": {
            "_view_name": "LayoutView",
            "grid_template_rows": null,
            "right": null,
            "justify_content": null,
            "_view_module": "@jupyter-widgets/base",
            "overflow": null,
            "_model_module_version": "1.2.0",
            "_view_count": null,
            "flex_flow": null,
            "width": null,
            "min_width": null,
            "border": null,
            "align_items": null,
            "bottom": null,
            "_model_module": "@jupyter-widgets/base",
            "top": null,
            "grid_column": null,
            "overflow_y": null,
            "overflow_x": null,
            "grid_auto_flow": null,
            "grid_area": null,
            "grid_template_columns": null,
            "flex": null,
            "_model_name": "LayoutModel",
            "justify_items": null,
            "grid_row": null,
            "max_height": null,
            "align_content": null,
            "visibility": null,
            "align_self": null,
            "height": null,
            "min_height": null,
            "padding": null,
            "grid_auto_rows": null,
            "grid_gap": null,
            "max_width": null,
            "order": null,
            "_view_module_version": "1.2.0",
            "grid_template_areas": null,
            "object_position": null,
            "object_fit": null,
            "grid_auto_columns": null,
            "margin": null,
            "display": null,
            "left": null
          }
        },
        "5c51dcbb46214a5f9c7aca4885401771": {
          "model_module": "@jupyter-widgets/controls",
          "model_name": "HTMLModel",
          "model_module_version": "1.5.0",
          "state": {
            "_view_name": "HTMLView",
            "style": "IPY_MODEL_17052f9ef3c0460ea178c57553797d6d",
            "_dom_classes": [],
            "description": "",
            "_model_name": "HTMLModel",
            "placeholder": "​",
            "_view_module": "@jupyter-widgets/controls",
            "_model_module_version": "1.5.0",
            "value": "100%",
            "_view_count": null,
            "_view_module_version": "1.5.0",
            "description_tooltip": null,
            "_model_module": "@jupyter-widgets/controls",
            "layout": "IPY_MODEL_96c7022271b4405d989f4319d122d6f4"
          }
        },
        "e935b4c963e740fca1766521c6d9f052": {
          "model_module": "@jupyter-widgets/controls",
          "model_name": "FloatProgressModel",
          "model_module_version": "1.5.0",
          "state": {
            "_view_name": "ProgressView",
            "style": "IPY_MODEL_e5d233c9801e4ac0a0c8bdf358eceafa",
            "_dom_classes": [],
            "description": "",
            "_model_name": "FloatProgressModel",
            "bar_style": "success",
            "max": 8326,
            "_view_module": "@jupyter-widgets/controls",
            "_model_module_version": "1.5.0",
            "value": 8326,
            "_view_count": null,
            "_view_module_version": "1.5.0",
            "orientation": "horizontal",
            "min": 0,
            "description_tooltip": null,
            "_model_module": "@jupyter-widgets/controls",
            "layout": "IPY_MODEL_642c1532d66149718f0ed3efd9e0b212"
          }
        },
        "be8bde8f12774364a75cdda48f1f91a8": {
          "model_module": "@jupyter-widgets/controls",
          "model_name": "HTMLModel",
          "model_module_version": "1.5.0",
          "state": {
            "_view_name": "HTMLView",
            "style": "IPY_MODEL_e0c291c3978c4d878872efceebe00e51",
            "_dom_classes": [],
            "description": "",
            "_model_name": "HTMLModel",
            "placeholder": "​",
            "_view_module": "@jupyter-widgets/controls",
            "_model_module_version": "1.5.0",
            "value": " 8326/8326 [00:00&lt;00:00, 58174.37it/s]",
            "_view_count": null,
            "_view_module_version": "1.5.0",
            "description_tooltip": null,
            "_model_module": "@jupyter-widgets/controls",
            "layout": "IPY_MODEL_7abef1b8802b416e9952a1552114d91d"
          }
        },
        "17052f9ef3c0460ea178c57553797d6d": {
          "model_module": "@jupyter-widgets/controls",
          "model_name": "DescriptionStyleModel",
          "model_module_version": "1.5.0",
          "state": {
            "_view_name": "StyleView",
            "_model_name": "DescriptionStyleModel",
            "description_width": "",
            "_view_module": "@jupyter-widgets/base",
            "_model_module_version": "1.5.0",
            "_view_count": null,
            "_view_module_version": "1.2.0",
            "_model_module": "@jupyter-widgets/controls"
          }
        },
        "96c7022271b4405d989f4319d122d6f4": {
          "model_module": "@jupyter-widgets/base",
          "model_name": "LayoutModel",
          "model_module_version": "1.2.0",
          "state": {
            "_view_name": "LayoutView",
            "grid_template_rows": null,
            "right": null,
            "justify_content": null,
            "_view_module": "@jupyter-widgets/base",
            "overflow": null,
            "_model_module_version": "1.2.0",
            "_view_count": null,
            "flex_flow": null,
            "width": null,
            "min_width": null,
            "border": null,
            "align_items": null,
            "bottom": null,
            "_model_module": "@jupyter-widgets/base",
            "top": null,
            "grid_column": null,
            "overflow_y": null,
            "overflow_x": null,
            "grid_auto_flow": null,
            "grid_area": null,
            "grid_template_columns": null,
            "flex": null,
            "_model_name": "LayoutModel",
            "justify_items": null,
            "grid_row": null,
            "max_height": null,
            "align_content": null,
            "visibility": null,
            "align_self": null,
            "height": null,
            "min_height": null,
            "padding": null,
            "grid_auto_rows": null,
            "grid_gap": null,
            "max_width": null,
            "order": null,
            "_view_module_version": "1.2.0",
            "grid_template_areas": null,
            "object_position": null,
            "object_fit": null,
            "grid_auto_columns": null,
            "margin": null,
            "display": null,
            "left": null
          }
        },
        "e5d233c9801e4ac0a0c8bdf358eceafa": {
          "model_module": "@jupyter-widgets/controls",
          "model_name": "ProgressStyleModel",
          "model_module_version": "1.5.0",
          "state": {
            "_view_name": "StyleView",
            "_model_name": "ProgressStyleModel",
            "description_width": "",
            "_view_module": "@jupyter-widgets/base",
            "_model_module_version": "1.5.0",
            "_view_count": null,
            "_view_module_version": "1.2.0",
            "bar_color": null,
            "_model_module": "@jupyter-widgets/controls"
          }
        },
        "642c1532d66149718f0ed3efd9e0b212": {
          "model_module": "@jupyter-widgets/base",
          "model_name": "LayoutModel",
          "model_module_version": "1.2.0",
          "state": {
            "_view_name": "LayoutView",
            "grid_template_rows": null,
            "right": null,
            "justify_content": null,
            "_view_module": "@jupyter-widgets/base",
            "overflow": null,
            "_model_module_version": "1.2.0",
            "_view_count": null,
            "flex_flow": null,
            "width": null,
            "min_width": null,
            "border": null,
            "align_items": null,
            "bottom": null,
            "_model_module": "@jupyter-widgets/base",
            "top": null,
            "grid_column": null,
            "overflow_y": null,
            "overflow_x": null,
            "grid_auto_flow": null,
            "grid_area": null,
            "grid_template_columns": null,
            "flex": null,
            "_model_name": "LayoutModel",
            "justify_items": null,
            "grid_row": null,
            "max_height": null,
            "align_content": null,
            "visibility": null,
            "align_self": null,
            "height": null,
            "min_height": null,
            "padding": null,
            "grid_auto_rows": null,
            "grid_gap": null,
            "max_width": null,
            "order": null,
            "_view_module_version": "1.2.0",
            "grid_template_areas": null,
            "object_position": null,
            "object_fit": null,
            "grid_auto_columns": null,
            "margin": null,
            "display": null,
            "left": null
          }
        },
        "e0c291c3978c4d878872efceebe00e51": {
          "model_module": "@jupyter-widgets/controls",
          "model_name": "DescriptionStyleModel",
          "model_module_version": "1.5.0",
          "state": {
            "_view_name": "StyleView",
            "_model_name": "DescriptionStyleModel",
            "description_width": "",
            "_view_module": "@jupyter-widgets/base",
            "_model_module_version": "1.5.0",
            "_view_count": null,
            "_view_module_version": "1.2.0",
            "_model_module": "@jupyter-widgets/controls"
          }
        },
        "7abef1b8802b416e9952a1552114d91d": {
          "model_module": "@jupyter-widgets/base",
          "model_name": "LayoutModel",
          "model_module_version": "1.2.0",
          "state": {
            "_view_name": "LayoutView",
            "grid_template_rows": null,
            "right": null,
            "justify_content": null,
            "_view_module": "@jupyter-widgets/base",
            "overflow": null,
            "_model_module_version": "1.2.0",
            "_view_count": null,
            "flex_flow": null,
            "width": null,
            "min_width": null,
            "border": null,
            "align_items": null,
            "bottom": null,
            "_model_module": "@jupyter-widgets/base",
            "top": null,
            "grid_column": null,
            "overflow_y": null,
            "overflow_x": null,
            "grid_auto_flow": null,
            "grid_area": null,
            "grid_template_columns": null,
            "flex": null,
            "_model_name": "LayoutModel",
            "justify_items": null,
            "grid_row": null,
            "max_height": null,
            "align_content": null,
            "visibility": null,
            "align_self": null,
            "height": null,
            "min_height": null,
            "padding": null,
            "grid_auto_rows": null,
            "grid_gap": null,
            "max_width": null,
            "order": null,
            "_view_module_version": "1.2.0",
            "grid_template_areas": null,
            "object_position": null,
            "object_fit": null,
            "grid_auto_columns": null,
            "margin": null,
            "display": null,
            "left": null
          }
        },
        "99c899c22444493db6b62565197fd3c0": {
          "model_module": "@jupyter-widgets/controls",
          "model_name": "HBoxModel",
          "model_module_version": "1.5.0",
          "state": {
            "_view_name": "HBoxView",
            "_dom_classes": [],
            "_model_name": "HBoxModel",
            "_view_module": "@jupyter-widgets/controls",
            "_model_module_version": "1.5.0",
            "_view_count": null,
            "_view_module_version": "1.5.0",
            "box_style": "",
            "layout": "IPY_MODEL_b5a8f14669584213870ea59fca7d4073",
            "_model_module": "@jupyter-widgets/controls",
            "children": [
              "IPY_MODEL_47e6295b770d49479e5eafb81038a029",
              "IPY_MODEL_6afcddc4dfbd494aa406ec91defabfa6",
              "IPY_MODEL_842f149af856476fa98f01efc55b5842"
            ]
          }
        },
        "b5a8f14669584213870ea59fca7d4073": {
          "model_module": "@jupyter-widgets/base",
          "model_name": "LayoutModel",
          "model_module_version": "1.2.0",
          "state": {
            "_view_name": "LayoutView",
            "grid_template_rows": null,
            "right": null,
            "justify_content": null,
            "_view_module": "@jupyter-widgets/base",
            "overflow": null,
            "_model_module_version": "1.2.0",
            "_view_count": null,
            "flex_flow": null,
            "width": null,
            "min_width": null,
            "border": null,
            "align_items": null,
            "bottom": null,
            "_model_module": "@jupyter-widgets/base",
            "top": null,
            "grid_column": null,
            "overflow_y": null,
            "overflow_x": null,
            "grid_auto_flow": null,
            "grid_area": null,
            "grid_template_columns": null,
            "flex": null,
            "_model_name": "LayoutModel",
            "justify_items": null,
            "grid_row": null,
            "max_height": null,
            "align_content": null,
            "visibility": null,
            "align_self": null,
            "height": null,
            "min_height": null,
            "padding": null,
            "grid_auto_rows": null,
            "grid_gap": null,
            "max_width": null,
            "order": null,
            "_view_module_version": "1.2.0",
            "grid_template_areas": null,
            "object_position": null,
            "object_fit": null,
            "grid_auto_columns": null,
            "margin": null,
            "display": null,
            "left": null
          }
        },
        "47e6295b770d49479e5eafb81038a029": {
          "model_module": "@jupyter-widgets/controls",
          "model_name": "HTMLModel",
          "model_module_version": "1.5.0",
          "state": {
            "_view_name": "HTMLView",
            "style": "IPY_MODEL_92acf441fa394c5fa59e43bf028efb7d",
            "_dom_classes": [],
            "description": "",
            "_model_name": "HTMLModel",
            "placeholder": "​",
            "_view_module": "@jupyter-widgets/controls",
            "_model_module_version": "1.5.0",
            "value": "100%",
            "_view_count": null,
            "_view_module_version": "1.5.0",
            "description_tooltip": null,
            "_model_module": "@jupyter-widgets/controls",
            "layout": "IPY_MODEL_075ede1a0f0e4c4b93f3766f1111f4ee"
          }
        },
        "6afcddc4dfbd494aa406ec91defabfa6": {
          "model_module": "@jupyter-widgets/controls",
          "model_name": "FloatProgressModel",
          "model_module_version": "1.5.0",
          "state": {
            "_view_name": "ProgressView",
            "style": "IPY_MODEL_145cc3c5a3c84d96accb44af31ef3f3b",
            "_dom_classes": [],
            "description": "",
            "_model_name": "FloatProgressModel",
            "bar_style": "success",
            "max": 30755,
            "_view_module": "@jupyter-widgets/controls",
            "_model_module_version": "1.5.0",
            "value": 30755,
            "_view_count": null,
            "_view_module_version": "1.5.0",
            "orientation": "horizontal",
            "min": 0,
            "description_tooltip": null,
            "_model_module": "@jupyter-widgets/controls",
            "layout": "IPY_MODEL_fee40e61739b4da1a078664cff1183d9"
          }
        },
        "842f149af856476fa98f01efc55b5842": {
          "model_module": "@jupyter-widgets/controls",
          "model_name": "HTMLModel",
          "model_module_version": "1.5.0",
          "state": {
            "_view_name": "HTMLView",
            "style": "IPY_MODEL_8bdaf22f24324d47a316e338fd517061",
            "_dom_classes": [],
            "description": "",
            "_model_name": "HTMLModel",
            "placeholder": "​",
            "_view_module": "@jupyter-widgets/controls",
            "_model_module_version": "1.5.0",
            "value": " 30755/30755 [04:33&lt;00:00, 120.53it/s]",
            "_view_count": null,
            "_view_module_version": "1.5.0",
            "description_tooltip": null,
            "_model_module": "@jupyter-widgets/controls",
            "layout": "IPY_MODEL_a9335d18845a40eb9b601d8775029a02"
          }
        },
        "92acf441fa394c5fa59e43bf028efb7d": {
          "model_module": "@jupyter-widgets/controls",
          "model_name": "DescriptionStyleModel",
          "model_module_version": "1.5.0",
          "state": {
            "_view_name": "StyleView",
            "_model_name": "DescriptionStyleModel",
            "description_width": "",
            "_view_module": "@jupyter-widgets/base",
            "_model_module_version": "1.5.0",
            "_view_count": null,
            "_view_module_version": "1.2.0",
            "_model_module": "@jupyter-widgets/controls"
          }
        },
        "075ede1a0f0e4c4b93f3766f1111f4ee": {
          "model_module": "@jupyter-widgets/base",
          "model_name": "LayoutModel",
          "model_module_version": "1.2.0",
          "state": {
            "_view_name": "LayoutView",
            "grid_template_rows": null,
            "right": null,
            "justify_content": null,
            "_view_module": "@jupyter-widgets/base",
            "overflow": null,
            "_model_module_version": "1.2.0",
            "_view_count": null,
            "flex_flow": null,
            "width": null,
            "min_width": null,
            "border": null,
            "align_items": null,
            "bottom": null,
            "_model_module": "@jupyter-widgets/base",
            "top": null,
            "grid_column": null,
            "overflow_y": null,
            "overflow_x": null,
            "grid_auto_flow": null,
            "grid_area": null,
            "grid_template_columns": null,
            "flex": null,
            "_model_name": "LayoutModel",
            "justify_items": null,
            "grid_row": null,
            "max_height": null,
            "align_content": null,
            "visibility": null,
            "align_self": null,
            "height": null,
            "min_height": null,
            "padding": null,
            "grid_auto_rows": null,
            "grid_gap": null,
            "max_width": null,
            "order": null,
            "_view_module_version": "1.2.0",
            "grid_template_areas": null,
            "object_position": null,
            "object_fit": null,
            "grid_auto_columns": null,
            "margin": null,
            "display": null,
            "left": null
          }
        },
        "145cc3c5a3c84d96accb44af31ef3f3b": {
          "model_module": "@jupyter-widgets/controls",
          "model_name": "ProgressStyleModel",
          "model_module_version": "1.5.0",
          "state": {
            "_view_name": "StyleView",
            "_model_name": "ProgressStyleModel",
            "description_width": "",
            "_view_module": "@jupyter-widgets/base",
            "_model_module_version": "1.5.0",
            "_view_count": null,
            "_view_module_version": "1.2.0",
            "bar_color": null,
            "_model_module": "@jupyter-widgets/controls"
          }
        },
        "fee40e61739b4da1a078664cff1183d9": {
          "model_module": "@jupyter-widgets/base",
          "model_name": "LayoutModel",
          "model_module_version": "1.2.0",
          "state": {
            "_view_name": "LayoutView",
            "grid_template_rows": null,
            "right": null,
            "justify_content": null,
            "_view_module": "@jupyter-widgets/base",
            "overflow": null,
            "_model_module_version": "1.2.0",
            "_view_count": null,
            "flex_flow": null,
            "width": null,
            "min_width": null,
            "border": null,
            "align_items": null,
            "bottom": null,
            "_model_module": "@jupyter-widgets/base",
            "top": null,
            "grid_column": null,
            "overflow_y": null,
            "overflow_x": null,
            "grid_auto_flow": null,
            "grid_area": null,
            "grid_template_columns": null,
            "flex": null,
            "_model_name": "LayoutModel",
            "justify_items": null,
            "grid_row": null,
            "max_height": null,
            "align_content": null,
            "visibility": null,
            "align_self": null,
            "height": null,
            "min_height": null,
            "padding": null,
            "grid_auto_rows": null,
            "grid_gap": null,
            "max_width": null,
            "order": null,
            "_view_module_version": "1.2.0",
            "grid_template_areas": null,
            "object_position": null,
            "object_fit": null,
            "grid_auto_columns": null,
            "margin": null,
            "display": null,
            "left": null
          }
        },
        "8bdaf22f24324d47a316e338fd517061": {
          "model_module": "@jupyter-widgets/controls",
          "model_name": "DescriptionStyleModel",
          "model_module_version": "1.5.0",
          "state": {
            "_view_name": "StyleView",
            "_model_name": "DescriptionStyleModel",
            "description_width": "",
            "_view_module": "@jupyter-widgets/base",
            "_model_module_version": "1.5.0",
            "_view_count": null,
            "_view_module_version": "1.2.0",
            "_model_module": "@jupyter-widgets/controls"
          }
        },
        "a9335d18845a40eb9b601d8775029a02": {
          "model_module": "@jupyter-widgets/base",
          "model_name": "LayoutModel",
          "model_module_version": "1.2.0",
          "state": {
            "_view_name": "LayoutView",
            "grid_template_rows": null,
            "right": null,
            "justify_content": null,
            "_view_module": "@jupyter-widgets/base",
            "overflow": null,
            "_model_module_version": "1.2.0",
            "_view_count": null,
            "flex_flow": null,
            "width": null,
            "min_width": null,
            "border": null,
            "align_items": null,
            "bottom": null,
            "_model_module": "@jupyter-widgets/base",
            "top": null,
            "grid_column": null,
            "overflow_y": null,
            "overflow_x": null,
            "grid_auto_flow": null,
            "grid_area": null,
            "grid_template_columns": null,
            "flex": null,
            "_model_name": "LayoutModel",
            "justify_items": null,
            "grid_row": null,
            "max_height": null,
            "align_content": null,
            "visibility": null,
            "align_self": null,
            "height": null,
            "min_height": null,
            "padding": null,
            "grid_auto_rows": null,
            "grid_gap": null,
            "max_width": null,
            "order": null,
            "_view_module_version": "1.2.0",
            "grid_template_areas": null,
            "object_position": null,
            "object_fit": null,
            "grid_auto_columns": null,
            "margin": null,
            "display": null,
            "left": null
          }
        },
        "2a1f3760ba764de09cadfb7c7e6107cd": {
          "model_module": "@jupyter-widgets/controls",
          "model_name": "HBoxModel",
          "model_module_version": "1.5.0",
          "state": {
            "_view_name": "HBoxView",
            "_dom_classes": [],
            "_model_name": "HBoxModel",
            "_view_module": "@jupyter-widgets/controls",
            "_model_module_version": "1.5.0",
            "_view_count": null,
            "_view_module_version": "1.5.0",
            "box_style": "",
            "layout": "IPY_MODEL_ed4a915270384eaeaba90adf8cf6c857",
            "_model_module": "@jupyter-widgets/controls",
            "children": [
              "IPY_MODEL_bb1a88ffb03e438bac59039b50de62b5",
              "IPY_MODEL_03a7767cd76347519129d8c84a9bad5b",
              "IPY_MODEL_902d24c0ef674c18b6b708ffd0bf3437"
            ]
          }
        },
        "ed4a915270384eaeaba90adf8cf6c857": {
          "model_module": "@jupyter-widgets/base",
          "model_name": "LayoutModel",
          "model_module_version": "1.2.0",
          "state": {
            "_view_name": "LayoutView",
            "grid_template_rows": null,
            "right": null,
            "justify_content": null,
            "_view_module": "@jupyter-widgets/base",
            "overflow": null,
            "_model_module_version": "1.2.0",
            "_view_count": null,
            "flex_flow": null,
            "width": null,
            "min_width": null,
            "border": null,
            "align_items": null,
            "bottom": null,
            "_model_module": "@jupyter-widgets/base",
            "top": null,
            "grid_column": null,
            "overflow_y": null,
            "overflow_x": null,
            "grid_auto_flow": null,
            "grid_area": null,
            "grid_template_columns": null,
            "flex": null,
            "_model_name": "LayoutModel",
            "justify_items": null,
            "grid_row": null,
            "max_height": null,
            "align_content": null,
            "visibility": null,
            "align_self": null,
            "height": null,
            "min_height": null,
            "padding": null,
            "grid_auto_rows": null,
            "grid_gap": null,
            "max_width": null,
            "order": null,
            "_view_module_version": "1.2.0",
            "grid_template_areas": null,
            "object_position": null,
            "object_fit": null,
            "grid_auto_columns": null,
            "margin": null,
            "display": null,
            "left": null
          }
        },
        "bb1a88ffb03e438bac59039b50de62b5": {
          "model_module": "@jupyter-widgets/controls",
          "model_name": "HTMLModel",
          "model_module_version": "1.5.0",
          "state": {
            "_view_name": "HTMLView",
            "style": "IPY_MODEL_7309498f460844049fdb5e56746c8a51",
            "_dom_classes": [],
            "description": "",
            "_model_name": "HTMLModel",
            "placeholder": "​",
            "_view_module": "@jupyter-widgets/controls",
            "_model_module_version": "1.5.0",
            "value": "100%",
            "_view_count": null,
            "_view_module_version": "1.5.0",
            "description_tooltip": null,
            "_model_module": "@jupyter-widgets/controls",
            "layout": "IPY_MODEL_32726c4f87724e768999799fb43c97b6"
          }
        },
        "03a7767cd76347519129d8c84a9bad5b": {
          "model_module": "@jupyter-widgets/controls",
          "model_name": "FloatProgressModel",
          "model_module_version": "1.5.0",
          "state": {
            "_view_name": "ProgressView",
            "style": "IPY_MODEL_bd999b2d9a9940659d41bbfbdb472c03",
            "_dom_classes": [],
            "description": "",
            "_model_name": "FloatProgressModel",
            "bar_style": "success",
            "max": 7377418,
            "_view_module": "@jupyter-widgets/controls",
            "_model_module_version": "1.5.0",
            "value": 7377418,
            "_view_count": null,
            "_view_module_version": "1.5.0",
            "orientation": "horizontal",
            "min": 0,
            "description_tooltip": null,
            "_model_module": "@jupyter-widgets/controls",
            "layout": "IPY_MODEL_bdd23f2f583e4171abd23431d04db89f"
          }
        },
        "902d24c0ef674c18b6b708ffd0bf3437": {
          "model_module": "@jupyter-widgets/controls",
          "model_name": "HTMLModel",
          "model_module_version": "1.5.0",
          "state": {
            "_view_name": "HTMLView",
            "style": "IPY_MODEL_ecf591cc513c48a180742ebf7647e485",
            "_dom_classes": [],
            "description": "",
            "_model_name": "HTMLModel",
            "placeholder": "​",
            "_view_module": "@jupyter-widgets/controls",
            "_model_module_version": "1.5.0",
            "value": " 7377418/7377418 [39:56&lt;00:00, 2971.29it/s]",
            "_view_count": null,
            "_view_module_version": "1.5.0",
            "description_tooltip": null,
            "_model_module": "@jupyter-widgets/controls",
            "layout": "IPY_MODEL_e78367c030a84bd69bc025b23d35f4b5"
          }
        },
        "7309498f460844049fdb5e56746c8a51": {
          "model_module": "@jupyter-widgets/controls",
          "model_name": "DescriptionStyleModel",
          "model_module_version": "1.5.0",
          "state": {
            "_view_name": "StyleView",
            "_model_name": "DescriptionStyleModel",
            "description_width": "",
            "_view_module": "@jupyter-widgets/base",
            "_model_module_version": "1.5.0",
            "_view_count": null,
            "_view_module_version": "1.2.0",
            "_model_module": "@jupyter-widgets/controls"
          }
        },
        "32726c4f87724e768999799fb43c97b6": {
          "model_module": "@jupyter-widgets/base",
          "model_name": "LayoutModel",
          "model_module_version": "1.2.0",
          "state": {
            "_view_name": "LayoutView",
            "grid_template_rows": null,
            "right": null,
            "justify_content": null,
            "_view_module": "@jupyter-widgets/base",
            "overflow": null,
            "_model_module_version": "1.2.0",
            "_view_count": null,
            "flex_flow": null,
            "width": null,
            "min_width": null,
            "border": null,
            "align_items": null,
            "bottom": null,
            "_model_module": "@jupyter-widgets/base",
            "top": null,
            "grid_column": null,
            "overflow_y": null,
            "overflow_x": null,
            "grid_auto_flow": null,
            "grid_area": null,
            "grid_template_columns": null,
            "flex": null,
            "_model_name": "LayoutModel",
            "justify_items": null,
            "grid_row": null,
            "max_height": null,
            "align_content": null,
            "visibility": null,
            "align_self": null,
            "height": null,
            "min_height": null,
            "padding": null,
            "grid_auto_rows": null,
            "grid_gap": null,
            "max_width": null,
            "order": null,
            "_view_module_version": "1.2.0",
            "grid_template_areas": null,
            "object_position": null,
            "object_fit": null,
            "grid_auto_columns": null,
            "margin": null,
            "display": null,
            "left": null
          }
        },
        "bd999b2d9a9940659d41bbfbdb472c03": {
          "model_module": "@jupyter-widgets/controls",
          "model_name": "ProgressStyleModel",
          "model_module_version": "1.5.0",
          "state": {
            "_view_name": "StyleView",
            "_model_name": "ProgressStyleModel",
            "description_width": "",
            "_view_module": "@jupyter-widgets/base",
            "_model_module_version": "1.5.0",
            "_view_count": null,
            "_view_module_version": "1.2.0",
            "bar_color": null,
            "_model_module": "@jupyter-widgets/controls"
          }
        },
        "bdd23f2f583e4171abd23431d04db89f": {
          "model_module": "@jupyter-widgets/base",
          "model_name": "LayoutModel",
          "model_module_version": "1.2.0",
          "state": {
            "_view_name": "LayoutView",
            "grid_template_rows": null,
            "right": null,
            "justify_content": null,
            "_view_module": "@jupyter-widgets/base",
            "overflow": null,
            "_model_module_version": "1.2.0",
            "_view_count": null,
            "flex_flow": null,
            "width": null,
            "min_width": null,
            "border": null,
            "align_items": null,
            "bottom": null,
            "_model_module": "@jupyter-widgets/base",
            "top": null,
            "grid_column": null,
            "overflow_y": null,
            "overflow_x": null,
            "grid_auto_flow": null,
            "grid_area": null,
            "grid_template_columns": null,
            "flex": null,
            "_model_name": "LayoutModel",
            "justify_items": null,
            "grid_row": null,
            "max_height": null,
            "align_content": null,
            "visibility": null,
            "align_self": null,
            "height": null,
            "min_height": null,
            "padding": null,
            "grid_auto_rows": null,
            "grid_gap": null,
            "max_width": null,
            "order": null,
            "_view_module_version": "1.2.0",
            "grid_template_areas": null,
            "object_position": null,
            "object_fit": null,
            "grid_auto_columns": null,
            "margin": null,
            "display": null,
            "left": null
          }
        },
        "ecf591cc513c48a180742ebf7647e485": {
          "model_module": "@jupyter-widgets/controls",
          "model_name": "DescriptionStyleModel",
          "model_module_version": "1.5.0",
          "state": {
            "_view_name": "StyleView",
            "_model_name": "DescriptionStyleModel",
            "description_width": "",
            "_view_module": "@jupyter-widgets/base",
            "_model_module_version": "1.5.0",
            "_view_count": null,
            "_view_module_version": "1.2.0",
            "_model_module": "@jupyter-widgets/controls"
          }
        },
        "e78367c030a84bd69bc025b23d35f4b5": {
          "model_module": "@jupyter-widgets/base",
          "model_name": "LayoutModel",
          "model_module_version": "1.2.0",
          "state": {
            "_view_name": "LayoutView",
            "grid_template_rows": null,
            "right": null,
            "justify_content": null,
            "_view_module": "@jupyter-widgets/base",
            "overflow": null,
            "_model_module_version": "1.2.0",
            "_view_count": null,
            "flex_flow": null,
            "width": null,
            "min_width": null,
            "border": null,
            "align_items": null,
            "bottom": null,
            "_model_module": "@jupyter-widgets/base",
            "top": null,
            "grid_column": null,
            "overflow_y": null,
            "overflow_x": null,
            "grid_auto_flow": null,
            "grid_area": null,
            "grid_template_columns": null,
            "flex": null,
            "_model_name": "LayoutModel",
            "justify_items": null,
            "grid_row": null,
            "max_height": null,
            "align_content": null,
            "visibility": null,
            "align_self": null,
            "height": null,
            "min_height": null,
            "padding": null,
            "grid_auto_rows": null,
            "grid_gap": null,
            "max_width": null,
            "order": null,
            "_view_module_version": "1.2.0",
            "grid_template_areas": null,
            "object_position": null,
            "object_fit": null,
            "grid_auto_columns": null,
            "margin": null,
            "display": null,
            "left": null
          }
        },
        "ab8c8e01a1dd48a29ad667ff19c48d18": {
          "model_module": "@jupyter-widgets/controls",
          "model_name": "HBoxModel",
          "model_module_version": "1.5.0",
          "state": {
            "_view_name": "HBoxView",
            "_dom_classes": [],
            "_model_name": "HBoxModel",
            "_view_module": "@jupyter-widgets/controls",
            "_model_module_version": "1.5.0",
            "_view_count": null,
            "_view_module_version": "1.5.0",
            "box_style": "",
            "layout": "IPY_MODEL_fc56d0a2823f49d1b52860216a8023e8",
            "_model_module": "@jupyter-widgets/controls",
            "children": [
              "IPY_MODEL_d9ede93353694ab2982cb81f80249245",
              "IPY_MODEL_707d635582e04ce1ab3160ca2c46a073",
              "IPY_MODEL_7a8300c906dc489d9982494253f983f1"
            ]
          }
        },
        "fc56d0a2823f49d1b52860216a8023e8": {
          "model_module": "@jupyter-widgets/base",
          "model_name": "LayoutModel",
          "model_module_version": "1.2.0",
          "state": {
            "_view_name": "LayoutView",
            "grid_template_rows": null,
            "right": null,
            "justify_content": null,
            "_view_module": "@jupyter-widgets/base",
            "overflow": null,
            "_model_module_version": "1.2.0",
            "_view_count": null,
            "flex_flow": null,
            "width": null,
            "min_width": null,
            "border": null,
            "align_items": null,
            "bottom": null,
            "_model_module": "@jupyter-widgets/base",
            "top": null,
            "grid_column": null,
            "overflow_y": null,
            "overflow_x": null,
            "grid_auto_flow": null,
            "grid_area": null,
            "grid_template_columns": null,
            "flex": null,
            "_model_name": "LayoutModel",
            "justify_items": null,
            "grid_row": null,
            "max_height": null,
            "align_content": null,
            "visibility": null,
            "align_self": null,
            "height": null,
            "min_height": null,
            "padding": null,
            "grid_auto_rows": null,
            "grid_gap": null,
            "max_width": null,
            "order": null,
            "_view_module_version": "1.2.0",
            "grid_template_areas": null,
            "object_position": null,
            "object_fit": null,
            "grid_auto_columns": null,
            "margin": null,
            "display": null,
            "left": null
          }
        },
        "d9ede93353694ab2982cb81f80249245": {
          "model_module": "@jupyter-widgets/controls",
          "model_name": "HTMLModel",
          "model_module_version": "1.5.0",
          "state": {
            "_view_name": "HTMLView",
            "style": "IPY_MODEL_bf2c713e9a1f4c9eb41b6f6fd6e6e292",
            "_dom_classes": [],
            "description": "",
            "_model_name": "HTMLModel",
            "placeholder": "​",
            "_view_module": "@jupyter-widgets/controls",
            "_model_module_version": "1.5.0",
            "value": "100%",
            "_view_count": null,
            "_view_module_version": "1.5.0",
            "description_tooltip": null,
            "_model_module": "@jupyter-widgets/controls",
            "layout": "IPY_MODEL_5fb3885287f2416c9b2dfd3438b38bcd"
          }
        },
        "707d635582e04ce1ab3160ca2c46a073": {
          "model_module": "@jupyter-widgets/controls",
          "model_name": "FloatProgressModel",
          "model_module_version": "1.5.0",
          "state": {
            "_view_name": "ProgressView",
            "style": "IPY_MODEL_63043d41c69c4d56b96e435a8912e246",
            "_dom_classes": [],
            "description": "",
            "_model_name": "FloatProgressModel",
            "bar_style": "success",
            "max": 30755,
            "_view_module": "@jupyter-widgets/controls",
            "_model_module_version": "1.5.0",
            "value": 30755,
            "_view_count": null,
            "_view_module_version": "1.5.0",
            "orientation": "horizontal",
            "min": 0,
            "description_tooltip": null,
            "_model_module": "@jupyter-widgets/controls",
            "layout": "IPY_MODEL_2831c4e250cb467d99d0da2c0ad17f66"
          }
        },
        "7a8300c906dc489d9982494253f983f1": {
          "model_module": "@jupyter-widgets/controls",
          "model_name": "HTMLModel",
          "model_module_version": "1.5.0",
          "state": {
            "_view_name": "HTMLView",
            "style": "IPY_MODEL_a97b9041cea7493e9079b01be31cdb5f",
            "_dom_classes": [],
            "description": "",
            "_model_name": "HTMLModel",
            "placeholder": "​",
            "_view_module": "@jupyter-widgets/controls",
            "_model_module_version": "1.5.0",
            "value": " 30755/30755 [04:08&lt;00:00, 122.66it/s]",
            "_view_count": null,
            "_view_module_version": "1.5.0",
            "description_tooltip": null,
            "_model_module": "@jupyter-widgets/controls",
            "layout": "IPY_MODEL_0d12d42100a5415481f505dc1942e3a4"
          }
        },
        "bf2c713e9a1f4c9eb41b6f6fd6e6e292": {
          "model_module": "@jupyter-widgets/controls",
          "model_name": "DescriptionStyleModel",
          "model_module_version": "1.5.0",
          "state": {
            "_view_name": "StyleView",
            "_model_name": "DescriptionStyleModel",
            "description_width": "",
            "_view_module": "@jupyter-widgets/base",
            "_model_module_version": "1.5.0",
            "_view_count": null,
            "_view_module_version": "1.2.0",
            "_model_module": "@jupyter-widgets/controls"
          }
        },
        "5fb3885287f2416c9b2dfd3438b38bcd": {
          "model_module": "@jupyter-widgets/base",
          "model_name": "LayoutModel",
          "model_module_version": "1.2.0",
          "state": {
            "_view_name": "LayoutView",
            "grid_template_rows": null,
            "right": null,
            "justify_content": null,
            "_view_module": "@jupyter-widgets/base",
            "overflow": null,
            "_model_module_version": "1.2.0",
            "_view_count": null,
            "flex_flow": null,
            "width": null,
            "min_width": null,
            "border": null,
            "align_items": null,
            "bottom": null,
            "_model_module": "@jupyter-widgets/base",
            "top": null,
            "grid_column": null,
            "overflow_y": null,
            "overflow_x": null,
            "grid_auto_flow": null,
            "grid_area": null,
            "grid_template_columns": null,
            "flex": null,
            "_model_name": "LayoutModel",
            "justify_items": null,
            "grid_row": null,
            "max_height": null,
            "align_content": null,
            "visibility": null,
            "align_self": null,
            "height": null,
            "min_height": null,
            "padding": null,
            "grid_auto_rows": null,
            "grid_gap": null,
            "max_width": null,
            "order": null,
            "_view_module_version": "1.2.0",
            "grid_template_areas": null,
            "object_position": null,
            "object_fit": null,
            "grid_auto_columns": null,
            "margin": null,
            "display": null,
            "left": null
          }
        },
        "63043d41c69c4d56b96e435a8912e246": {
          "model_module": "@jupyter-widgets/controls",
          "model_name": "ProgressStyleModel",
          "model_module_version": "1.5.0",
          "state": {
            "_view_name": "StyleView",
            "_model_name": "ProgressStyleModel",
            "description_width": "",
            "_view_module": "@jupyter-widgets/base",
            "_model_module_version": "1.5.0",
            "_view_count": null,
            "_view_module_version": "1.2.0",
            "bar_color": null,
            "_model_module": "@jupyter-widgets/controls"
          }
        },
        "2831c4e250cb467d99d0da2c0ad17f66": {
          "model_module": "@jupyter-widgets/base",
          "model_name": "LayoutModel",
          "model_module_version": "1.2.0",
          "state": {
            "_view_name": "LayoutView",
            "grid_template_rows": null,
            "right": null,
            "justify_content": null,
            "_view_module": "@jupyter-widgets/base",
            "overflow": null,
            "_model_module_version": "1.2.0",
            "_view_count": null,
            "flex_flow": null,
            "width": null,
            "min_width": null,
            "border": null,
            "align_items": null,
            "bottom": null,
            "_model_module": "@jupyter-widgets/base",
            "top": null,
            "grid_column": null,
            "overflow_y": null,
            "overflow_x": null,
            "grid_auto_flow": null,
            "grid_area": null,
            "grid_template_columns": null,
            "flex": null,
            "_model_name": "LayoutModel",
            "justify_items": null,
            "grid_row": null,
            "max_height": null,
            "align_content": null,
            "visibility": null,
            "align_self": null,
            "height": null,
            "min_height": null,
            "padding": null,
            "grid_auto_rows": null,
            "grid_gap": null,
            "max_width": null,
            "order": null,
            "_view_module_version": "1.2.0",
            "grid_template_areas": null,
            "object_position": null,
            "object_fit": null,
            "grid_auto_columns": null,
            "margin": null,
            "display": null,
            "left": null
          }
        },
        "a97b9041cea7493e9079b01be31cdb5f": {
          "model_module": "@jupyter-widgets/controls",
          "model_name": "DescriptionStyleModel",
          "model_module_version": "1.5.0",
          "state": {
            "_view_name": "StyleView",
            "_model_name": "DescriptionStyleModel",
            "description_width": "",
            "_view_module": "@jupyter-widgets/base",
            "_model_module_version": "1.5.0",
            "_view_count": null,
            "_view_module_version": "1.2.0",
            "_model_module": "@jupyter-widgets/controls"
          }
        },
        "0d12d42100a5415481f505dc1942e3a4": {
          "model_module": "@jupyter-widgets/base",
          "model_name": "LayoutModel",
          "model_module_version": "1.2.0",
          "state": {
            "_view_name": "LayoutView",
            "grid_template_rows": null,
            "right": null,
            "justify_content": null,
            "_view_module": "@jupyter-widgets/base",
            "overflow": null,
            "_model_module_version": "1.2.0",
            "_view_count": null,
            "flex_flow": null,
            "width": null,
            "min_width": null,
            "border": null,
            "align_items": null,
            "bottom": null,
            "_model_module": "@jupyter-widgets/base",
            "top": null,
            "grid_column": null,
            "overflow_y": null,
            "overflow_x": null,
            "grid_auto_flow": null,
            "grid_area": null,
            "grid_template_columns": null,
            "flex": null,
            "_model_name": "LayoutModel",
            "justify_items": null,
            "grid_row": null,
            "max_height": null,
            "align_content": null,
            "visibility": null,
            "align_self": null,
            "height": null,
            "min_height": null,
            "padding": null,
            "grid_auto_rows": null,
            "grid_gap": null,
            "max_width": null,
            "order": null,
            "_view_module_version": "1.2.0",
            "grid_template_areas": null,
            "object_position": null,
            "object_fit": null,
            "grid_auto_columns": null,
            "margin": null,
            "display": null,
            "left": null
          }
        }
      }
    }
  },
  "cells": [
    {
      "cell_type": "markdown",
      "metadata": {
        "id": "view-in-github",
        "colab_type": "text"
      },
      "source": [
        "<a href=\"https://colab.research.google.com/github/grazder/recommendation_systems/blob/main/RecSys_HW2.ipynb\" target=\"_parent\"><img src=\"https://colab.research.google.com/assets/colab-badge.svg\" alt=\"Open In Colab\"/></a>"
      ]
    },
    {
      "cell_type": "code",
      "metadata": {
        "colab": {
          "base_uri": "https://localhost:8080/"
        },
        "id": "PCswv5Ms8xSx",
        "outputId": "caa26f3d-3512-4a27-a8ca-6e160438e0e8"
      },
      "source": [
        "!wget https://voudy-data.s3.eu-north-1.amazonaws.com/wsdm_data.tar.gz\n",
        "!tar -xf /content/wsdm_data.tar.gz\n",
        "!mkdir data\n",
        "!mv -t data members.csv song_extra_info.csv songs.csv train.csv"
      ],
      "execution_count": null,
      "outputs": [
        {
          "name": "stdout",
          "output_type": "stream",
          "text": [
            "--2021-11-27 14:20:16--  https://voudy-data.s3.eu-north-1.amazonaws.com/wsdm_data.tar.gz\n",
            "Resolving voudy-data.s3.eu-north-1.amazonaws.com (voudy-data.s3.eu-north-1.amazonaws.com)... 52.95.169.16\n",
            "Connecting to voudy-data.s3.eu-north-1.amazonaws.com (voudy-data.s3.eu-north-1.amazonaws.com)|52.95.169.16|:443... connected.\n",
            "HTTP request sent, awaiting response... 200 OK\n",
            "Length: 613394184 (585M) [application/x-gzip]\n",
            "Saving to: ‘wsdm_data.tar.gz’\n",
            "\n",
            "wsdm_data.tar.gz    100%[===================>] 584.98M  94.4MB/s    in 6.1s    \n",
            "\n",
            "2021-11-27 14:20:22 (96.6 MB/s) - ‘wsdm_data.tar.gz’ saved [613394184/613394184]\n",
            "\n"
          ]
        }
      ]
    },
    {
      "cell_type": "code",
      "metadata": {
        "colab": {
          "base_uri": "https://localhost:8080/"
        },
        "id": "OVkg7I3EgQbK",
        "outputId": "80d89a50-c992-4efe-89ca-8fade1821981"
      },
      "source": [
        "!pip install catboost"
      ],
      "execution_count": null,
      "outputs": [
        {
          "name": "stdout",
          "output_type": "stream",
          "text": [
            "Collecting catboost\n",
            "  Downloading catboost-1.0.3-cp37-none-manylinux1_x86_64.whl (76.3 MB)\n",
            "\u001b[K     |████████████████████████████████| 76.3 MB 1.3 MB/s \n",
            "\u001b[?25hRequirement already satisfied: graphviz in /usr/local/lib/python3.7/dist-packages (from catboost) (0.10.1)\n",
            "Requirement already satisfied: pandas>=0.24.0 in /usr/local/lib/python3.7/dist-packages (from catboost) (1.1.5)\n",
            "Requirement already satisfied: plotly in /usr/local/lib/python3.7/dist-packages (from catboost) (4.4.1)\n",
            "Requirement already satisfied: six in /usr/local/lib/python3.7/dist-packages (from catboost) (1.15.0)\n",
            "Requirement already satisfied: scipy in /usr/local/lib/python3.7/dist-packages (from catboost) (1.4.1)\n",
            "Requirement already satisfied: matplotlib in /usr/local/lib/python3.7/dist-packages (from catboost) (3.2.2)\n",
            "Requirement already satisfied: numpy>=1.16.0 in /usr/local/lib/python3.7/dist-packages (from catboost) (1.19.5)\n",
            "Requirement already satisfied: python-dateutil>=2.7.3 in /usr/local/lib/python3.7/dist-packages (from pandas>=0.24.0->catboost) (2.8.2)\n",
            "Requirement already satisfied: pytz>=2017.2 in /usr/local/lib/python3.7/dist-packages (from pandas>=0.24.0->catboost) (2018.9)\n",
            "Requirement already satisfied: cycler>=0.10 in /usr/local/lib/python3.7/dist-packages (from matplotlib->catboost) (0.11.0)\n",
            "Requirement already satisfied: pyparsing!=2.0.4,!=2.1.2,!=2.1.6,>=2.0.1 in /usr/local/lib/python3.7/dist-packages (from matplotlib->catboost) (3.0.6)\n",
            "Requirement already satisfied: kiwisolver>=1.0.1 in /usr/local/lib/python3.7/dist-packages (from matplotlib->catboost) (1.3.2)\n",
            "Requirement already satisfied: retrying>=1.3.3 in /usr/local/lib/python3.7/dist-packages (from plotly->catboost) (1.3.3)\n",
            "Installing collected packages: catboost\n",
            "Successfully installed catboost-1.0.3\n"
          ]
        }
      ]
    },
    {
      "cell_type": "code",
      "metadata": {
        "id": "DbYlp0WHeWH6"
      },
      "source": [
        "import datetime\n",
        "from tqdm.notebook import tqdm\n",
        "import numpy as np\n",
        "import pandas as pd\n",
        "from time import time\n",
        "from sklearn.model_selection import KFold\n",
        "from sklearn.metrics import roc_auc_score\n",
        "from catboost import CatBoostClassifier\n",
        "import matplotlib.pyplot as plt\n",
        "import seaborn as sns\n",
        "import fasttext\n",
        "from sklearn.decomposition import PCA\n",
        "from tqdm.notebook import tqdm\n",
        "from sklearn.preprocessing import LabelEncoder"
      ],
      "execution_count": 24,
      "outputs": []
    },
    {
      "cell_type": "code",
      "metadata": {
        "id": "2WxeWWX39Uo-"
      },
      "source": [
        "members = pd.read_csv(\"./data/members.csv\")\n",
        "songs = pd.read_csv(\"./data/songs.csv\")\n",
        "train = pd.read_csv(\"./data/train.csv\")\n",
        "songs_extra_info = pd.read_csv(\"./data/song_extra_info.csv\")"
      ],
      "execution_count": 3,
      "outputs": []
    },
    {
      "cell_type": "code",
      "metadata": {
        "id": "exqqCnlW9Znh"
      },
      "source": [
        "train = train.merge(members, on=\"msno\", how=\"left\")\n",
        "train = train.merge(songs, on=\"song_id\", how=\"left\")"
      ],
      "execution_count": 4,
      "outputs": []
    },
    {
      "cell_type": "code",
      "metadata": {
        "colab": {
          "base_uri": "https://localhost:8080/"
        },
        "id": "cvXkJ74BDrPH",
        "outputId": "bb0f93f3-241a-46de-91d1-1b895a6589f6"
      },
      "source": [
        "train.columns"
      ],
      "execution_count": 5,
      "outputs": [
        {
          "output_type": "execute_result",
          "data": {
            "text/plain": [
              "Index(['msno', 'song_id', 'source_system_tab', 'source_screen_name',\n",
              "       'source_type', 'target', 'city', 'bd', 'gender', 'registered_via',\n",
              "       'registration_init_time', 'expiration_date', 'song_length', 'genre_ids',\n",
              "       'artist_name', 'composer', 'lyricist', 'language'],\n",
              "      dtype='object')"
            ]
          },
          "metadata": {},
          "execution_count": 5
        }
      ]
    },
    {
      "cell_type": "code",
      "metadata": {
        "id": "nVXmwLs-FHjR"
      },
      "source": [
        "train['registration_init_time'] = pd.to_datetime(train[\"registration_init_time\"]).apply(lambda x: x.year).astype(\"int\")\n",
        "train['expiration_date'] = pd.to_datetime(train[\"expiration_date\"]).apply(lambda x: x.year).astype(\"int\")\n",
        "\n",
        "train['year_dif'] = train['expiration_date'] - train['registration_init_time']"
      ],
      "execution_count": 6,
      "outputs": []
    },
    {
      "cell_type": "code",
      "metadata": {
        "id": "IeZBDMZZdKXw"
      },
      "source": [
        "for col_1, col_2 in [('artist_name', 'composer')]:\n",
        "    train[col_1 + '_' + col_2] = train[col_1].astype(str) + '_' + train[col_2].astype(str)\n",
        "    train[col_1 + '_' + col_2] = train[col_1 + '_' + col_2].astype('category').cat.codes"
      ],
      "execution_count": 7,
      "outputs": []
    },
    {
      "cell_type": "code",
      "metadata": {
        "id": "0P4Xq3NX9ZkZ"
      },
      "source": [
        "categorical_features = ['artist_name', 'composer', 'lyricist', 'genre_ids', 'language', 'expiration_date', \n",
        "                        'registered_via', 'gender', 'bd', 'city', 'source_type', 'language', \n",
        "                        'source_screen_name', 'source_system_tab', 'song_id', 'msno']\n",
        "\n",
        "for col in categorical_features:\n",
        "    train[col] = train[col].fillna('nan').astype('category').cat.codes\n",
        "\n",
        "X = train.drop(\"target\", axis=1)\n",
        "y = train['target']"
      ],
      "execution_count": 8,
      "outputs": []
    },
    {
      "cell_type": "markdown",
      "metadata": {
        "id": "NqVZHiDskC5f"
      },
      "source": [
        "# Задание 1."
      ]
    },
    {
      "cell_type": "code",
      "metadata": {
        "id": "QStDHTtLeQmh"
      },
      "source": [
        "cat_params = {\n",
        "                'n_estimators':300,\n",
        "                'learning_rate': 0.01,\n",
        "                'eval_metric':'AUC',\n",
        "                'loss_function':'Logloss',\n",
        "                'random_seed': 42,\n",
        "                'metric_period':500,\n",
        "                'od_wait':500,\n",
        "                'task_type':'GPU',\n",
        "                'depth': 8,\n",
        "                } "
      ],
      "execution_count": null,
      "outputs": []
    },
    {
      "cell_type": "code",
      "metadata": {
        "id": "KKFuMw9YmW3a"
      },
      "source": [
        "def auc_per_query(users, y_true, y_pred):\n",
        "    users_unique = np.unique(users)\n",
        "    scores = []\n",
        "\n",
        "    for user in tqdm(users_unique):\n",
        "        try:\n",
        "            mask = users == user\n",
        "            user_auc = roc_auc_score(y_true[mask], y_pred[mask])\n",
        "            scores.append(user_auc)\n",
        "        except:\n",
        "            pass\n",
        "\n",
        "    return np.array(scores).mean()"
      ],
      "execution_count": 77,
      "outputs": []
    },
    {
      "cell_type": "code",
      "metadata": {
        "colab": {
          "background_save": true,
          "base_uri": "https://localhost:8080/",
          "referenced_widgets": [
            "4cb64f9f794e4356b0a5bac1c7bb4583"
          ]
        },
        "id": "XMdDWEZzeDu0",
        "outputId": "5834bea5-6c87-4f0e-8f26-ccd9bc31b8e5"
      },
      "source": [
        "oof = np.zeros(len(X))\n",
        "\n",
        "folds = KFold(n_splits=5, shuffle=True, random_state=47)\n",
        "\n",
        "feature_importances = pd.DataFrame()\n",
        "feature_importances['feature'] = X.columns\n",
        "\n",
        "training_start_time = time()\n",
        "for fold, (trn_idx, test_idx) in enumerate(folds.split(X, y)):\n",
        "    start_time = time()\n",
        "    print('Training on fold {}'.format(fold + 1))\n",
        "    \n",
        "    estimator = CatBoostClassifier(**cat_params)        \n",
        "    estimator.fit(\n",
        "            X.iloc[trn_idx,:],y[trn_idx],\n",
        "            eval_set=(X.iloc[test_idx,:], y[test_idx]),\n",
        "            cat_features=categorical_features,\n",
        "            use_best_model=True,\n",
        "            verbose=True)\n",
        "    \n",
        "    oof[test_idx] = estimator.predict_proba(X.iloc[test_idx])[:,1]\n",
        "    feature_importances['fold_{}'.format(fold + 1)] = estimator.get_feature_importance()\n",
        "    \n",
        "    print('Fold {} finished in {}'.format(fold + 1, str(datetime.timedelta(seconds=time() - start_time))))\n",
        "\n",
        "print('-' * 30)\n",
        "print('Training has finished.')\n",
        "print('Total training time is {}'.format(str(datetime.timedelta(seconds=time() - training_start_time))))\n",
        "print('OOF AUC:', auc_per_query(train['msno'], y, oof))\n",
        "print('-' * 30)"
      ],
      "execution_count": null,
      "outputs": [
        {
          "name": "stdout",
          "output_type": "stream",
          "text": [
            "Training on fold 1\n",
            "0:\tlearn: 0.7663033\ttest: 0.7761736\tbest: 0.7761736 (0)\ttotal: 857ms\tremaining: 4m 16s\n",
            "299:\tlearn: 0.8120280\ttest: 0.8263462\tbest: 0.8263462 (299)\ttotal: 3m 43s\tremaining: 0us\n",
            "bestTest = 0.826346159\n",
            "bestIteration = 299\n",
            "Fold 1 finished in 0:06:06.421238\n",
            "Training on fold 2\n",
            "0:\tlearn: 0.7661438\ttest: 0.7764704\tbest: 0.7764704 (0)\ttotal: 856ms\tremaining: 4m 15s\n",
            "299:\tlearn: 0.8116848\ttest: 0.8265306\tbest: 0.8265306 (299)\ttotal: 3m 43s\tremaining: 0us\n",
            "bestTest = 0.8265305758\n",
            "bestIteration = 299\n",
            "Fold 2 finished in 0:04:56.826049\n",
            "Training on fold 3\n",
            "0:\tlearn: 0.7663526\ttest: 0.7771254\tbest: 0.7771254 (0)\ttotal: 846ms\tremaining: 4m 13s\n",
            "299:\tlearn: 0.8123294\ttest: 0.8272935\tbest: 0.8272935 (299)\ttotal: 3m 44s\tremaining: 0us\n",
            "bestTest = 0.8272934854\n",
            "bestIteration = 299\n",
            "Fold 3 finished in 0:04:57.221255\n",
            "Training on fold 4\n",
            "0:\tlearn: 0.7665313\ttest: 0.7767186\tbest: 0.7767186 (0)\ttotal: 856ms\tremaining: 4m 16s\n",
            "299:\tlearn: 0.8120313\ttest: 0.8266802\tbest: 0.8266802 (299)\ttotal: 3m 44s\tremaining: 0us\n",
            "bestTest = 0.826680243\n",
            "bestIteration = 299\n",
            "Fold 4 finished in 0:04:57.726679\n",
            "Training on fold 5\n",
            "0:\tlearn: 0.7664310\ttest: 0.7765898\tbest: 0.7765898 (0)\ttotal: 848ms\tremaining: 4m 13s\n",
            "299:\tlearn: 0.8125497\ttest: 0.8273277\tbest: 0.8273277 (299)\ttotal: 3m 44s\tremaining: 0us\n",
            "bestTest = 0.8273277283\n",
            "bestIteration = 299\n",
            "Fold 5 finished in 0:04:57.186843\n",
            "------------------------------\n",
            "Training has finished.\n",
            "Total training time is 0:25:56.205258\n"
          ]
        },
        {
          "data": {
            "application/vnd.jupyter.widget-view+json": {
              "model_id": "4cb64f9f794e4356b0a5bac1c7bb4583",
              "version_major": 2,
              "version_minor": 0
            },
            "text/plain": [
              "  0%|          | 0/30755 [00:00<?, ?it/s]"
            ]
          },
          "metadata": {},
          "output_type": "display_data"
        },
        {
          "name": "stdout",
          "output_type": "stream",
          "text": [
            "OOF AUC: 0.699385382725422\n",
            "------------------------------\n"
          ]
        }
      ]
    },
    {
      "cell_type": "code",
      "metadata": {
        "colab": {
          "background_save": true
        },
        "id": "ml46PUJjdQyd",
        "outputId": "06fae599-12eb-4d07-da17-138dafcf7a3d"
      },
      "source": [
        "feature_importances['average'] = feature_importances[['fold_{}'.format(fold + 1) for fold in range(folds.n_splits)]].mean(axis=1)\n",
        "\n",
        "plt.figure(figsize=(16, 16))\n",
        "sns.barplot(data=feature_importances.sort_values(by='average', ascending=False).head(50), x='average', y='feature');\n",
        "plt.title('50 TOP feature importance over {} folds average'.format(folds.n_splits));"
      ],
      "execution_count": null,
      "outputs": [
        {
          "data": {
            "image/png": "[encoded data removed]",
            "text/plain": [
              "<Figure size 1152x1152 with 1 Axes>"
            ]
          },
          "metadata": {},
          "output_type": "display_data"
        }
      ]
    },
    {
      "cell_type": "markdown",
      "metadata": {
        "id": "F5T4UB_g-FB7"
      },
      "source": [
        "# Задание 2"
      ]
    },
    {
      "cell_type": "markdown",
      "metadata": {
        "id": "ZbfWWCMU-G0e"
      },
      "source": [
        "Сначала учим эмбеддинги итемов (song_id)"
      ]
    },
    {
      "cell_type": "code",
      "metadata": {
        "colab": {
          "base_uri": "https://localhost:8080/"
        },
        "id": "j1rEHifdA15X",
        "outputId": "6b818acc-d399-4f26-fca5-b84963489c29"
      },
      "source": [
        "!pip install fasttext"
      ],
      "execution_count": 39,
      "outputs": [
        {
          "output_type": "stream",
          "name": "stdout",
          "text": [
            "Collecting fasttext\n",
            "  Downloading fasttext-0.9.2.tar.gz (68 kB)\n",
            "\u001b[?25l\r\u001b[K     |████▊                           | 10 kB 34.5 MB/s eta 0:00:01\r\u001b[K     |█████████▌                      | 20 kB 34.5 MB/s eta 0:00:01\r\u001b[K     |██████████████▎                 | 30 kB 38.3 MB/s eta 0:00:01\r\u001b[K     |███████████████████             | 40 kB 26.5 MB/s eta 0:00:01\r\u001b[K     |███████████████████████▉        | 51 kB 16.3 MB/s eta 0:00:01\r\u001b[K     |████████████████████████████▋   | 61 kB 14.1 MB/s eta 0:00:01\r\u001b[K     |████████████████████████████████| 68 kB 5.9 MB/s \n",
            "\u001b[?25hCollecting pybind11>=2.2\n",
            "  Using cached pybind11-2.8.1-py2.py3-none-any.whl (208 kB)\n",
            "Requirement already satisfied: setuptools>=0.7.0 in /usr/local/lib/python3.7/dist-packages (from fasttext) (57.4.0)\n",
            "Requirement already satisfied: numpy in /usr/local/lib/python3.7/dist-packages (from fasttext) (1.19.5)\n",
            "Building wheels for collected packages: fasttext\n",
            "  Building wheel for fasttext (setup.py) ... \u001b[?25l\u001b[?25hdone\n",
            "  Created wheel for fasttext: filename=fasttext-0.9.2-cp37-cp37m-linux_x86_64.whl size=3125609 sha256=f10a0ffacdbad368e937bf051c5cce3f038f55a276c79e63635b93d3000b3201\n",
            "  Stored in directory: /root/.cache/pip/wheels/4e/ca/bf/b020d2be95f7641801a6597a29c8f4f19e38f9c02a345bab9b\n",
            "Successfully built fasttext\n",
            "Installing collected packages: pybind11, fasttext\n",
            "Successfully installed fasttext-0.9.2 pybind11-2.8.1\n"
          ]
        }
      ]
    },
    {
      "cell_type": "markdown",
      "metadata": {
        "id": "t-EXw0k5FmCL"
      },
      "source": [
        "Готовим датасет и фильтруем items"
      ]
    },
    {
      "cell_type": "code",
      "metadata": {
        "colab": {
          "base_uri": "https://localhost:8080/"
        },
        "id": "Ned0fICt-8ET",
        "outputId": "fbff0034-7026-4623-a4b8-61a14f417c72"
      },
      "source": [
        "import csv\n",
        "\n",
        "fasttext_df = train.copy()\n",
        "\n",
        "fasttext_vc = fasttext_df['song_id'].value_counts()\n",
        "popular_items = list(fasttext_vc[fasttext_vc > 50].index)\n",
        "\n",
        "print(fasttext_df['song_id'].nunique())\n",
        "fasttext_df = fasttext_df[fasttext_df['song_id'].isin(popular_items)]\n",
        "print(fasttext_df['song_id'].nunique())\n",
        "\n",
        "fasttext_df['song_id'] = fasttext_df['song_id'].astype(str)\n",
        "fasttext_df = fasttext_df.groupby('msno')['song_id'].apply(lambda x: ' '.join(list(x)))\n",
        "fasttext_df.to_csv('train.txt', index = False, sep = ' ', header = None, \n",
        "                   quoting = csv.QUOTE_NONE, quotechar = \"\", escapechar = \" \")"
      ],
      "execution_count": 9,
      "outputs": [
        {
          "output_type": "stream",
          "name": "stdout",
          "text": [
            "359966\n",
            "17593\n"
          ]
        }
      ]
    },
    {
      "cell_type": "code",
      "metadata": {
        "id": "KW6suHIDbnth"
      },
      "source": [
        "model = fasttext.train_unsupervised('train.txt', thread=8, verbose=1)\n",
        "model.save_model(\"item_embedding_model.bin\")"
      ],
      "execution_count": 9,
      "outputs": []
    },
    {
      "cell_type": "code",
      "metadata": {
        "colab": {
          "base_uri": "https://localhost:8080/"
        },
        "id": "WkpJw4xEOfW8",
        "outputId": "f4b41046-4e36-4789-92fe-2d06036d9559"
      },
      "source": [
        "model = fasttext.load_model('item_embedding_model.bin')\n",
        "words_list = list(model.words)"
      ],
      "execution_count": 10,
      "outputs": [
        {
          "output_type": "stream",
          "name": "stderr",
          "text": [
            "Warning : `load_model` does not return WordVectorModel or SupervisedModel any more, but a `FastText` object which is very similar.\n"
          ]
        }
      ]
    },
    {
      "cell_type": "markdown",
      "metadata": {
        "id": "toDPTPsWLvyC"
      },
      "source": [
        "Посмотрим теперь на симилары"
      ]
    },
    {
      "cell_type": "code",
      "metadata": {
        "id": "xa6cQCx_yFeJ",
        "colab": {
          "base_uri": "https://localhost:8080/"
        },
        "outputId": "be498af4-1c04-4d21-9612-fc81d1900214"
      },
      "source": [
        "k = 5\n",
        "\n",
        "groups = train.groupby(\"genre_ids\").count().sort_values(\"song_id\", ascending=False).index.to_numpy()\n",
        "top_k_groups = groups[1:k + 5]\n",
        "similars_train = train[train[\"genre_ids\"].isin(top_k_groups)].sample(10000)\n",
        "similars_train['song_id'] = similars_train['song_id'].astype(str)\n",
        "\n",
        "print(similars_train.shape)"
      ],
      "execution_count": 18,
      "outputs": [
        {
          "output_type": "stream",
          "name": "stdout",
          "text": [
            "(10000, 20)\n"
          ]
        }
      ]
    },
    {
      "cell_type": "code",
      "metadata": {
        "id": "YGCCZrssyFcC",
        "colab": {
          "base_uri": "https://localhost:8080/"
        },
        "outputId": "86c573a7-23ac-4e36-a36f-6632b7222055"
      },
      "source": [
        "songs_learned = list(set(similars_train['song_id'].unique()).intersection(set(words_list)))\n",
        "\n",
        "similars_train = similars_train[similars_train['song_id'].isin(songs_learned)]\n",
        "songs = similars_train['song_id']\n",
        "genres = similars_train['genre_ids']\n",
        "\n",
        "print(songs.shape, genres.shape)"
      ],
      "execution_count": 22,
      "outputs": [
        {
          "output_type": "stream",
          "name": "stdout",
          "text": [
            "(8326,) (8326,)\n"
          ]
        }
      ]
    },
    {
      "cell_type": "code",
      "metadata": {
        "colab": {
          "base_uri": "https://localhost:8080/",
          "height": 49,
          "referenced_widgets": [
            "d4d7ce6466a64f2993acf99e495da3ca",
            "819148faed254999b4741b683bc4f5f6",
            "5c51dcbb46214a5f9c7aca4885401771",
            "e935b4c963e740fca1766521c6d9f052",
            "be8bde8f12774364a75cdda48f1f91a8",
            "17052f9ef3c0460ea178c57553797d6d",
            "96c7022271b4405d989f4319d122d6f4",
            "e5d233c9801e4ac0a0c8bdf358eceafa",
            "642c1532d66149718f0ed3efd9e0b212",
            "e0c291c3978c4d878872efceebe00e51",
            "7abef1b8802b416e9952a1552114d91d"
          ]
        },
        "id": "6eQHaHmZRXMN",
        "outputId": "f33f4470-11a1-4a0d-b97e-cdbf3c71c1ce"
      },
      "source": [
        "songs_embeds = []\n",
        "\n",
        "for song in tqdm(songs):\n",
        "    songs_embeds.append(model.get_word_vector(song))\n",
        "\n",
        "songs_embeds = np.array(songs_embeds)"
      ],
      "execution_count": 25,
      "outputs": [
        {
          "output_type": "display_data",
          "data": {
            "application/vnd.jupyter.widget-view+json": {
              "model_id": "d4d7ce6466a64f2993acf99e495da3ca",
              "version_minor": 0,
              "version_major": 2
            },
            "text/plain": [
              "  0%|          | 0/8326 [00:00<?, ?it/s]"
            ]
          },
          "metadata": {}
        }
      ]
    },
    {
      "cell_type": "code",
      "metadata": {
        "id": "Fj1_jd52yFZu",
        "colab": {
          "base_uri": "https://localhost:8080/",
          "height": 374
        },
        "outputId": "ff42551f-d1e7-4f51-e456-5cd7c25e59c1"
      },
      "source": [
        "import matplotlib.cm as cm\n",
        "\n",
        "data = PCA(n_components=2).fit_transform(songs_embeds)\n",
        "\n",
        "le = LabelEncoder()\n",
        "labels = le.fit_transform(genres)\n",
        "\n",
        "n_classes = len(le.classes_)\n",
        "colors = cm.rainbow(np.linspace(0, 1, n_classes))\n",
        "colors = [colors[label] for label in labels]\n",
        "\n",
        "plt.figure(figsize=(10, 6))\n",
        "plt.scatter(data[:, 0], data[:, 1], color=colors)\n",
        "\n",
        "plt.show()"
      ],
      "execution_count": 30,
      "outputs": [
        {
          "output_type": "display_data",
          "data": {
            "image/png": "[encoded data removed]",
            "text/plain": [
              "<Figure size 720x432 with 1 Axes>"
            ]
          },
          "metadata": {
            "needs_background": "light"
          }
        }
      ]
    },
    {
      "cell_type": "markdown",
      "metadata": {
        "id": "HW6f5Xx3R9r_"
      },
      "source": [
        "Видим группы цветов, которые находятся близко, но также есть разный разброс"
      ]
    },
    {
      "cell_type": "markdown",
      "metadata": {
        "id": "UdFAiFjVTRdJ"
      },
      "source": [
        "Получим теперь user ембеддинги"
      ]
    },
    {
      "cell_type": "code",
      "metadata": {
        "colab": {
          "base_uri": "https://localhost:8080/",
          "height": 49,
          "referenced_widgets": [
            "99c899c22444493db6b62565197fd3c0",
            "b5a8f14669584213870ea59fca7d4073",
            "47e6295b770d49479e5eafb81038a029",
            "6afcddc4dfbd494aa406ec91defabfa6",
            "842f149af856476fa98f01efc55b5842",
            "92acf441fa394c5fa59e43bf028efb7d",
            "075ede1a0f0e4c4b93f3766f1111f4ee",
            "145cc3c5a3c84d96accb44af31ef3f3b",
            "fee40e61739b4da1a078664cff1183d9",
            "8bdaf22f24324d47a316e338fd517061",
            "a9335d18845a40eb9b601d8775029a02"
          ]
        },
        "id": "s1csjVTQNGZM",
        "outputId": "231cf1a0-994f-4a81-f90d-52ccfdf2ede8"
      },
      "source": [
        "full_df = train.copy()\n",
        "full_df['song_id'] = full_df['song_id'].astype(str)\n",
        "full_df = full_df.groupby('msno')['song_id'].apply(lambda x: ' '.join(list(x)))\n",
        "\n",
        "user_embeds = []\n",
        "\n",
        "for user_i in tqdm(full_df.index):\n",
        "    user_songs = full_df.iloc[user_i]\n",
        "    embed = np.mean([model.get_word_vector(x) for x in user_songs], axis=0)\n",
        "\n",
        "    user_embeds.append(embed)\n",
        "\n",
        "user_embeds = np.array(user_embeds)\n",
        "user_embed_dict = {k: v for k, v in zip(full_df.index, user_embeds)}"
      ],
      "execution_count": 40,
      "outputs": [
        {
          "output_type": "display_data",
          "data": {
            "application/vnd.jupyter.widget-view+json": {
              "model_id": "99c899c22444493db6b62565197fd3c0",
              "version_minor": 0,
              "version_major": 2
            },
            "text/plain": [
              "  0%|          | 0/30755 [00:00<?, ?it/s]"
            ]
          },
          "metadata": {}
        }
      ]
    },
    {
      "cell_type": "markdown",
      "metadata": {
        "id": "s018AmzUXBH2"
      },
      "source": [
        "Сделаем предсказания"
      ]
    },
    {
      "cell_type": "code",
      "metadata": {
        "colab": {
          "base_uri": "https://localhost:8080/",
          "height": 49,
          "referenced_widgets": [
            "2a1f3760ba764de09cadfb7c7e6107cd",
            "ed4a915270384eaeaba90adf8cf6c857",
            "bb1a88ffb03e438bac59039b50de62b5",
            "03a7767cd76347519129d8c84a9bad5b",
            "902d24c0ef674c18b6b708ffd0bf3437",
            "7309498f460844049fdb5e56746c8a51",
            "32726c4f87724e768999799fb43c97b6",
            "bd999b2d9a9940659d41bbfbdb472c03",
            "bdd23f2f583e4171abd23431d04db89f",
            "ecf591cc513c48a180742ebf7647e485",
            "e78367c030a84bd69bc025b23d35f4b5"
          ]
        },
        "id": "5HF7j2xgNGWp",
        "outputId": "e49b983c-9a34-4cb0-eecd-7e28867f5402"
      },
      "source": [
        "from sklearn.metrics.pairwise import cosine_similarity\n",
        "\n",
        "preds = []\n",
        "\n",
        "for msno, song in tqdm(train[['msno', 'song_id']].values):\n",
        "    song_embed = model.get_word_vector(str(song))\n",
        "    user_embed = user_embed_dict[msno]\n",
        "\n",
        "    preds.append(cosine_similarity([user_embed], [song_embed])[0][0])\n",
        "\n",
        "preds = np.array(preds)"
      ],
      "execution_count": 80,
      "outputs": [
        {
          "output_type": "display_data",
          "data": {
            "application/vnd.jupyter.widget-view+json": {
              "model_id": "2a1f3760ba764de09cadfb7c7e6107cd",
              "version_minor": 0,
              "version_major": 2
            },
            "text/plain": [
              "  0%|          | 0/7377418 [00:00<?, ?it/s]"
            ]
          },
          "metadata": {}
        }
      ]
    },
    {
      "cell_type": "code",
      "metadata": {
        "colab": {
          "base_uri": "https://localhost:8080/",
          "height": 66,
          "referenced_widgets": [
            "ab8c8e01a1dd48a29ad667ff19c48d18",
            "fc56d0a2823f49d1b52860216a8023e8",
            "d9ede93353694ab2982cb81f80249245",
            "707d635582e04ce1ab3160ca2c46a073",
            "7a8300c906dc489d9982494253f983f1",
            "bf2c713e9a1f4c9eb41b6f6fd6e6e292",
            "5fb3885287f2416c9b2dfd3438b38bcd",
            "63043d41c69c4d56b96e435a8912e246",
            "2831c4e250cb467d99d0da2c0ad17f66",
            "a97b9041cea7493e9079b01be31cdb5f",
            "0d12d42100a5415481f505dc1942e3a4"
          ]
        },
        "id": "1iOcvHRSYFOQ",
        "outputId": "ebac7059-d211-43f2-bc31-695af0211952"
      },
      "source": [
        "print('OOF AUC:', auc_per_query(train['msno'], train['target'], preds))"
      ],
      "execution_count": 81,
      "outputs": [
        {
          "output_type": "display_data",
          "data": {
            "application/vnd.jupyter.widget-view+json": {
              "model_id": "ab8c8e01a1dd48a29ad667ff19c48d18",
              "version_minor": 0,
              "version_major": 2
            },
            "text/plain": [
              "  0%|          | 0/30755 [00:00<?, ?it/s]"
            ]
          },
          "metadata": {}
        },
        {
          "output_type": "stream",
          "name": "stdout",
          "text": [
            "OOF AUC: 0.48081598078085064\n"
          ]
        }
      ]
    },
    {
      "cell_type": "code",
      "metadata": {
        "id": "95EItameY7w-"
      },
      "source": [
        ""
      ],
      "execution_count": null,
      "outputs": []
    }
  ]
}